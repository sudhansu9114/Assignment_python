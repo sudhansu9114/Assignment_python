{
 "cells": [
  {
   "cell_type": "code",
   "execution_count": null,
   "id": "4ed43302",
   "metadata": {},
   "outputs": [
    {
     "name": "stdout",
     "output_type": "stream",
     "text": [
      "1\n",
      "2\n",
      "3\n",
      "4\n",
      "5\n",
      "6\n",
      "7\n",
      "8\n",
      "9\n",
      "10\n"
     ]
    }
   ],
   "source": [
    "# 1. numbers from 1 to 10\n",
    "\n",
    "for i in range (1,11,1):\n",
    "    print(i)"
   ]
  },
  {
   "cell_type": "code",
   "execution_count": null,
   "id": "63a3cb1b",
   "metadata": {},
   "outputs": [
    {
     "name": "stdout",
     "output_type": "stream",
     "text": [
      "2\n",
      "4\n",
      "6\n",
      "8\n",
      "10\n",
      "12\n",
      "14\n",
      "16\n",
      "18\n",
      "20\n"
     ]
    }
   ],
   "source": [
    "# 2. even numbers from 1 to 20\n",
    "\n",
    "for i in range (1,21,1):\n",
    "    if (i%2==0):\n",
    "        print(i)"
   ]
  },
  {
   "cell_type": "code",
   "execution_count": null,
   "id": "751478d2",
   "metadata": {},
   "outputs": [
    {
     "name": "stdout",
     "output_type": "stream",
     "text": [
      "-8 is negative\n"
     ]
    }
   ],
   "source": [
    "# 3. number check\n",
    "\n",
    "num=int(input(\"Enter the number\"))\n",
    "\n",
    "if num==0:\n",
    "    print(f\"{num} is zero\")\n",
    "elif num>0:\n",
    "    print(f\"{num} is positive\")\n",
    "else:\n",
    "    print(f\"{num} is negative\")"
   ]
  },
  {
   "cell_type": "code",
   "execution_count": 5,
   "id": "2536c3f5",
   "metadata": {},
   "outputs": [
    {
     "name": "stdout",
     "output_type": "stream",
     "text": [
      "8\n"
     ]
    }
   ],
   "source": [
    "# 4. add with operator\n",
    "a, b = 5, 3\n",
    "print(a + b)"
   ]
  },
  {
   "cell_type": "code",
   "execution_count": null,
   "id": "6d4f1ea7",
   "metadata": {},
   "outputs": [
    {
     "name": "stdout",
     "output_type": "stream",
     "text": [
      "5 x 1 = 5\n",
      "5 x 2 = 10\n",
      "5 x 3 = 15\n",
      "5 x 4 = 20\n",
      "5 x 5 = 25\n",
      "5 x 6 = 30\n",
      "5 x 7 = 35\n",
      "5 x 8 = 40\n",
      "5 x 9 = 45\n",
      "5 x 10 = 50\n"
     ]
    }
   ],
   "source": [
    "# 5. print multiplication table\n",
    "num = int(input(\"Enter a number for multiplication table: \"))\n",
    "for i in range(1, 11):\n",
    "    print(f\"{num} x {i} = {num * i}\")\n"
   ]
  },
  {
   "cell_type": "code",
   "execution_count": 7,
   "id": "6abb4080",
   "metadata": {},
   "outputs": [
    {
     "name": "stdout",
     "output_type": "stream",
     "text": [
      "6 is the largest number.\n"
     ]
    }
   ],
   "source": [
    "# 6. Largest in 2 numbers\n",
    "\n",
    "num1=int(input(\"Enter the 1st number\"))\n",
    "num2=int(input(\"Enter the 2nd number\"))\n",
    "if num1>num2:\n",
    "    print(f\"{num1} is the largest number.\")\n",
    "else:\n",
    "    print(f\"{num2} is the largest number.\")"
   ]
  },
  {
   "cell_type": "code",
   "execution_count": 9,
   "id": "bea75968",
   "metadata": {},
   "outputs": [
    {
     "name": "stdout",
     "output_type": "stream",
     "text": [
      "5\n",
      "4\n",
      "3\n",
      "2\n",
      "1\n"
     ]
    }
   ],
   "source": [
    "# 7. print 5 to 1 using while loop\n",
    "i=5\n",
    "while i>=1:\n",
    "    print(i)\n",
    "    i-=1"
   ]
  },
  {
   "cell_type": "code",
   "execution_count": 12,
   "id": "93ba9d98",
   "metadata": {},
   "outputs": [
    {
     "name": "stdout",
     "output_type": "stream",
     "text": [
      "h\n",
      "e\n",
      "l\n",
      "l\n",
      "o\n"
     ]
    }
   ],
   "source": [
    "# 8. print all character in a string\n",
    "\n",
    "str=input(\"Enter the string\")\n",
    "for char in str:\n",
    "    print(char)"
   ]
  },
  {
   "cell_type": "code",
   "execution_count": 14,
   "id": "70d4dea6",
   "metadata": {},
   "outputs": [
    {
     "name": "stdout",
     "output_type": "stream",
     "text": [
      "25 is in between 10 and 50\n"
     ]
    }
   ],
   "source": [
    "# 9. is num between 10 and 50\n",
    "\n",
    "num=int(input(\"Enter a number\"))\n",
    "if 10<num<50:\n",
    "    print(f\"{num} is in between 10 and 50\")\n",
    "else:\n",
    "    print(f\"{num} is not in between 10 and 50\")"
   ]
  },
  {
   "cell_type": "code",
   "execution_count": 15,
   "id": "f371275b",
   "metadata": {},
   "outputs": [
    {
     "name": "stdout",
     "output_type": "stream",
     "text": [
      "55\n"
     ]
    }
   ],
   "source": [
    "# 10. sum of 1st 10 natural numbers\n",
    "\n",
    "print(sum(range(1,11)))"
   ]
  },
  {
   "cell_type": "code",
   "execution_count": 18,
   "id": "7ed49c45",
   "metadata": {},
   "outputs": [
    {
     "name": "stdout",
     "output_type": "stream",
     "text": [
      "1 is odd\n",
      "2 is even\n",
      "3 is odd\n",
      "4 is even\n",
      "5 is odd\n",
      "6 is even\n",
      "7 is odd\n",
      "8 is even\n",
      "9 is odd\n",
      "10 is even\n"
     ]
    }
   ],
   "source": [
    "# 11. odd or even for 1 to 10\n",
    "\n",
    "for i in range(1,11):\n",
    "    if i%2==0:\n",
    "        print(f\"{i} is even\")\n",
    "    else:\n",
    "        print(f\"{i} is odd\")"
   ]
  },
  {
   "cell_type": "code",
   "execution_count": 19,
   "id": "ba404f9a",
   "metadata": {},
   "outputs": [
    {
     "name": "stdout",
     "output_type": "stream",
     "text": [
      "1\n",
      "2\n",
      "3\n",
      "4\n"
     ]
    }
   ],
   "source": [
    "# 12. using break to stop at 5\n",
    "\n",
    "for i in range(1, 11):\n",
    "    if i == 5:\n",
    "        break\n",
    "    print(i)"
   ]
  },
  {
   "cell_type": "code",
   "execution_count": 20,
   "id": "579920ec",
   "metadata": {},
   "outputs": [
    {
     "name": "stdout",
     "output_type": "stream",
     "text": [
      "1\n",
      "2\n",
      "3\n",
      "4\n",
      "6\n",
      "7\n",
      "8\n",
      "9\n",
      "10\n"
     ]
    }
   ],
   "source": [
    "# 13. Print 1 to 10 and use continue to skip printing 5\n",
    "\n",
    "for i in range(1, 11):\n",
    "    if i == 5:\n",
    "        continue\n",
    "    print(i)\n"
   ]
  },
  {
   "cell_type": "code",
   "execution_count": 21,
   "id": "4f7284c4",
   "metadata": {},
   "outputs": [
    {
     "name": "stdout",
     "output_type": "stream",
     "text": [
      "1\n",
      "2\n",
      "3\n",
      "4\n",
      "5\n"
     ]
    }
   ],
   "source": [
    "# 14. all elements in a list\n",
    "\n",
    "lst=[1,2,3,4,5]\n",
    "for item in lst:\n",
    "    print(item)"
   ]
  },
  {
   "cell_type": "code",
   "execution_count": null,
   "id": "43672a74",
   "metadata": {},
   "outputs": [
    {
     "name": "stdout",
     "output_type": "stream",
     "text": [
      "45 is divisible ny noth 3 and 5\n"
     ]
    }
   ],
   "source": [
    "# 15. if number is divided by 3 and 5\n",
    "\n",
    "num=int(input(\"Enter a number\"))\n",
    "if num%3==0 and num%5==0:\n",
    "    print(f\"{num} is divisible ny both 3 and 5\")\n",
    "else:\n",
    "    print(f\"{num} is not divisible ny noth 3 and 5\")"
   ]
  },
  {
   "cell_type": "code",
   "execution_count": 23,
   "id": "09d86ce8",
   "metadata": {},
   "outputs": [
    {
     "name": "stdout",
     "output_type": "stream",
     "text": [
      "1\n",
      "4\n",
      "9\n",
      "16\n",
      "25\n"
     ]
    }
   ],
   "source": [
    "# 16. square of all numbers from 1 to 5\n",
    "\n",
    "for i in range(1,6):\n",
    "    print(i**2)"
   ]
  },
  {
   "cell_type": "code",
   "execution_count": 25,
   "id": "cdac2d9c",
   "metadata": {},
   "outputs": [
    {
     "name": "stdout",
     "output_type": "stream",
     "text": [
      "H 72\n",
      "a 97\n",
      "p 112\n",
      "p 112\n",
      "y 121\n",
      "  32\n",
      "a 97\n",
      "  32\n",
      "a 97\n",
      "  32\n",
      "A 65\n"
     ]
    }
   ],
   "source": [
    "#17. print ascii values of character in a string\n",
    "\n",
    "str=input(\"Enter a string\")\n",
    "for i in str:\n",
    "    print(i,ord(i))"
   ]
  },
  {
   "cell_type": "code",
   "execution_count": 28,
   "id": "11f6eb13",
   "metadata": {},
   "outputs": [
    {
     "name": "stdout",
     "output_type": "stream",
     "text": [
      "10\n",
      "9\n",
      "8\n",
      "7\n",
      "6\n",
      "5\n",
      "4\n",
      "3\n",
      "2\n",
      "1\n"
     ]
    }
   ],
   "source": [
    "# 18. count from 10 to 1 using while\n",
    "\n",
    "i=10\n",
    "while i>0:\n",
    "    print(i)\n",
    "    i-=1"
   ]
  },
  {
   "cell_type": "code",
   "execution_count": 29,
   "id": "12cee8dc",
   "metadata": {},
   "outputs": [
    {
     "name": "stdout",
     "output_type": "stream",
     "text": [
      "9 is divisible by 2 or 3\n"
     ]
    }
   ],
   "source": [
    "# 19. if number is divisible by 2 or 3\n",
    "\n",
    "num=int(input(\"Enter a number\"))\n",
    "if num%2==0 or num%3==0:\n",
    "    print(f\"{num} is divisible by 2 or 3\")\n",
    "else:\n",
    "    print(f\"{num} is not divisible by 2 or 3\")"
   ]
  },
  {
   "cell_type": "code",
   "execution_count": 32,
   "id": "5576657e",
   "metadata": {},
   "outputs": [
    {
     "name": "stdout",
     "output_type": "stream",
     "text": [
      "19\n"
     ]
    }
   ],
   "source": [
    "# 20. print sum of digits of a number\n",
    "\n",
    "num=input(\"Enter a number\")\n",
    "print(sum(int(d) for d in num))"
   ]
  },
  {
   "cell_type": "code",
   "execution_count": 33,
   "id": "65183fb2",
   "metadata": {},
   "outputs": [
    {
     "name": "stdout",
     "output_type": "stream",
     "text": [
      "5 4\n",
      "4 5\n"
     ]
    }
   ],
   "source": [
    "# 21. swap 2 numbers with temp\n",
    "\n",
    "a = int(input(\"Enter a\"))\n",
    "b = int(input(\"Enter b\"))\n",
    "print(a,b)\n",
    "temp=a\n",
    "a=b\n",
    "b=temp\n",
    "print(a,b)\n"
   ]
  },
  {
   "cell_type": "code",
   "execution_count": 35,
   "id": "ecaaed53",
   "metadata": {},
   "outputs": [
    {
     "name": "stdout",
     "output_type": "stream",
     "text": [
      "7\n",
      "14\n",
      "21\n",
      "28\n",
      "35\n",
      "42\n",
      "49\n",
      "56\n",
      "63\n",
      "70\n",
      "77\n",
      "84\n",
      "91\n",
      "98\n"
     ]
    }
   ],
   "source": [
    "# 22. print numbers divisible by 7 between 1 to 100\n",
    "\n",
    "for i in range(1,101):\n",
    "    if i%7==0:\n",
    "        print(i)\n"
   ]
  },
  {
   "cell_type": "code",
   "execution_count": 36,
   "id": "d0df4101",
   "metadata": {},
   "outputs": [
    {
     "name": "stdout",
     "output_type": "stream",
     "text": [
      "720\n"
     ]
    }
   ],
   "source": [
    "# 23. find factorial \n",
    "\n",
    "num=int(input(\"Enter a number\"))\n",
    "fact=1\n",
    "for i in range (2,num+1):\n",
    "    fact*=i\n",
    "print(fact)"
   ]
  },
  {
   "cell_type": "code",
   "execution_count": 37,
   "id": "6af369d6",
   "metadata": {},
   "outputs": [
    {
     "name": "stdout",
     "output_type": "stream",
     "text": [
      "7\n"
     ]
    }
   ],
   "source": [
    "# 24. Count vowels in a string\n",
    "\n",
    "str=input(\"Enter a string\")\n",
    "count=0\n",
    "for i in str:\n",
    "    if i in \"aeiouAEIOU\":\n",
    "        count+=1\n",
    "print(count)"
   ]
  },
  {
   "cell_type": "code",
   "execution_count": 38,
   "id": "64edba27",
   "metadata": {},
   "outputs": [
    {
     "name": "stdout",
     "output_type": "stream",
     "text": [
      "653\n"
     ]
    }
   ],
   "source": [
    "# 25. reverse a number using loop\n",
    "\n",
    "num=int(input(\"Enter a number\"))\n",
    "rev=0\n",
    "while num>0:\n",
    "    dg=num%10\n",
    "    rev=rev*10+dg\n",
    "    num//=10\n",
    "print(rev)"
   ]
  },
  {
   "cell_type": "code",
   "execution_count": 47,
   "id": "a7201b25",
   "metadata": {},
   "outputs": [
    {
     "name": "stdout",
     "output_type": "stream",
     "text": [
      "789\n"
     ]
    }
   ],
   "source": [
    "# 26. find maximum of a list\n",
    "\n",
    "lst= list(map(int,input(\"Enter list elements by space\").split()))\n",
    "max_val=lst[0]\n",
    "for n in lst:\n",
    "    if n>max_val:\n",
    "        max_val=n\n",
    "print(max_val)"
   ]
  },
  {
   "cell_type": "code",
   "execution_count": 57,
   "id": "f504656b",
   "metadata": {},
   "outputs": [
    {
     "name": "stdout",
     "output_type": "stream",
     "text": [
      "7 is a prime number\n"
     ]
    }
   ],
   "source": [
    "# 27. prime number check using loop\n",
    "\n",
    "num=int(input(\"Enter a number\"))\n",
    "is_prime=True\n",
    "for i in range(2,num):\n",
    "    if num%i==0:\n",
    "        is_prime=False\n",
    "\n",
    "#  int(num**0.5)+1       \n",
    "if is_prime==False:\n",
    "        print(f\"{num} is not a prime number\")\n",
    "else:\n",
    "    print(f\"{num} is a prime number\")"
   ]
  },
  {
   "cell_type": "code",
   "execution_count": 58,
   "id": "3cbd5edd",
   "metadata": {},
   "outputs": [
    {
     "name": "stdout",
     "output_type": "stream",
     "text": [
      "18\n"
     ]
    }
   ],
   "source": [
    "# 28. sum of even numbers in a list\n",
    "\n",
    "lst= list(map(int,input(\"Enter list elements by space\").split()))\n",
    "print(sum(num for num in lst if num%2==0))"
   ]
  },
  {
   "cell_type": "code",
   "execution_count": 62,
   "id": "5399fac2",
   "metadata": {},
   "outputs": [
    {
     "name": "stdout",
     "output_type": "stream",
     "text": [
      "1\n",
      "22\n",
      "333\n",
      "4444\n",
      "55555\n"
     ]
    }
   ],
   "source": [
    "# 29. print number pattern using nested loop\n",
    "\n",
    "num=int(input(\"Enter a number\"))\n",
    "for i in range(1,num+1):\n",
    "    for j in range(1,i+1):\n",
    "      print(i,end=\"\")\n",
    "    print()"
   ]
  },
  {
   "cell_type": "code",
   "execution_count": 65,
   "id": "e61eb80d",
   "metadata": {},
   "outputs": [
    {
     "name": "stdout",
     "output_type": "stream",
     "text": [
      "{'5': 2, '4': 2, '9': 2, '8': 2, '7': 2}\n"
     ]
    }
   ],
   "source": [
    "# 30. count frequency of digit in a number\n",
    "\n",
    "n = input(\"Enter a number\")\n",
    "freq = {}\n",
    "for digit in n:\n",
    "    freq[digit] = freq.get(digit, 0) + 1\n",
    "print(freq)\n"
   ]
  },
  {
   "cell_type": "code",
   "execution_count": 66,
   "id": "79ee10e8",
   "metadata": {},
   "outputs": [
    {
     "name": "stdout",
     "output_type": "stream",
     "text": [
      "9 is the GCD of 36 and 45\n"
     ]
    }
   ],
   "source": [
    "# 31. GCD of 2 numbers\n",
    "\n",
    "a=int(input(\"Enter first number\"))\n",
    "b=int(input(\"Enter second number\"))\n",
    "gcd = 1\n",
    "for i in range(1, min(a, b)+1):\n",
    "    if a % i == 0 and b % i == 0:\n",
    "        gcd = i\n",
    "print(f\"{gcd} is the GCD of {a} and {b}\")\n"
   ]
  },
  {
   "cell_type": "code",
   "execution_count": 68,
   "id": "b9c38a7d",
   "metadata": {},
   "outputs": [
    {
     "name": "stdout",
     "output_type": "stream",
     "text": [
      "546785153 is not a pallindrome number\n"
     ]
    }
   ],
   "source": [
    "# 32. check if number is pallindrome\n",
    "\n",
    "num=input(\"Enter first number\")\n",
    "if num==num[::-1]:\n",
    "    print(f\"{num} is a pallindrome number\")\n",
    "else:\n",
    "    print(f\"{num} is not a pallindrome number\")\n"
   ]
  },
  {
   "cell_type": "code",
   "execution_count": 69,
   "id": "80d67f04",
   "metadata": {},
   "outputs": [
    {
     "name": "stdout",
     "output_type": "stream",
     "text": [
      "4\n"
     ]
    }
   ],
   "source": [
    "# 33. Count words in a sentence\n",
    "\n",
    "s = \"Hello world from AI\"\n",
    "print(len(s.split()))\n"
   ]
  },
  {
   "cell_type": "code",
   "execution_count": null,
   "id": "a5e6baee",
   "metadata": {},
   "outputs": [],
   "source": [
    "# 34. Find common element in 2 lists\n",
    "\n",
    "a = [1, 2, 3]\n",
    "b = [2, 3, 4]\n",
    "print(list(set(a) & set(b)))"
   ]
  },
  {
   "cell_type": "code",
   "execution_count": 70,
   "id": "a8167edb",
   "metadata": {},
   "outputs": [
    {
     "name": "stdout",
     "output_type": "stream",
     "text": [
      "B\n"
     ]
    }
   ],
   "source": [
    "# 35. Use elif to grade students based on score\n",
    "\n",
    "score=int(input(\"Enter score\"))\n",
    "\n",
    "if score >= 90:\n",
    "    print(\"A\")\n",
    "elif score >= 80:\n",
    "    print(\"B\")\n",
    "elif score >= 70:\n",
    "    print(\"C\")\n",
    "else:\n",
    "    print(\"Fail\")"
   ]
  },
  {
   "cell_type": "code",
   "execution_count": null,
   "id": "d558ba97",
   "metadata": {},
   "outputs": [
    {
     "name": "stdout",
     "output_type": "stream",
     "text": [
      "*\n",
      "**\n",
      "***\n",
      "****\n",
      "*****\n"
     ]
    }
   ],
   "source": [
    "# 36. Print a right-angled triangle using *\n",
    "\n",
    "for i in range(1, 6):\n",
    "    print('*' * i)"
   ]
  },
  {
   "cell_type": "code",
   "execution_count": 72,
   "id": "2e243a81",
   "metadata": {},
   "outputs": [
    {
     "name": "stdout",
     "output_type": "stream",
     "text": [
      "Leap Year\n"
     ]
    }
   ],
   "source": [
    "# 37. Check if a year is a leap year\n",
    "\n",
    "year=int(input(\"Enter year\"))\n",
    "if year % 4 == 0 and (year % 100 != 0 or year % 400 == 0):\n",
    "    print(\"Leap Year\")\n",
    "else:\n",
    "    print(\"Not Leap Year\")\n"
   ]
  },
  {
   "cell_type": "code",
   "execution_count": 76,
   "id": "bfe9a353",
   "metadata": {},
   "outputs": [
    {
     "name": "stdout",
     "output_type": "stream",
     "text": [
      "Fibonacci series:\n",
      "0 1 1 2 3 5 "
     ]
    }
   ],
   "source": [
    "# 38. Print Fibonacci series using loop\n",
    "\n",
    "\n",
    "n = int(input(\"Enter the number of terms: \"))\n",
    "a, b = 0, 1\n",
    "print(\"Fibonacci series:\")\n",
    "for i in range(n):\n",
    "    print(a, end=\" \")\n",
    "    a, b = b, a + b \n"
   ]
  },
  {
   "cell_type": "code",
   "execution_count": null,
   "id": "84074e5b",
   "metadata": {},
   "outputs": [],
   "source": [
    "# 39. Count uppercase and lowercase letters in a string\n",
    "\n",
    "str = input(\"Enter a string\")\n",
    "upper = sum(1 for char in str if char.isupper())\n",
    "lower = sum(1 for char in str if char.islower())\n",
    "print(\"Uppercase:\", upper, \"Lowercase:\", lower)\n"
   ]
  },
  {
   "cell_type": "code",
   "execution_count": 77,
   "id": "89407647",
   "metadata": {},
   "outputs": [
    {
     "name": "stdout",
     "output_type": "stream",
     "text": [
      "100\n",
      "99\n",
      "98\n",
      "97\n",
      "96\n",
      "95\n",
      "94\n",
      "93\n",
      "92\n",
      "91\n",
      "90\n",
      "89\n",
      "88\n",
      "87\n",
      "86\n",
      "85\n",
      "84\n",
      "83\n",
      "82\n",
      "81\n",
      "80\n",
      "79\n",
      "78\n",
      "77\n",
      "76\n",
      "75\n",
      "74\n",
      "73\n",
      "72\n",
      "71\n",
      "70\n",
      "69\n",
      "68\n",
      "67\n",
      "66\n",
      "65\n",
      "64\n",
      "63\n",
      "62\n",
      "61\n",
      "60\n",
      "59\n",
      "58\n",
      "57\n",
      "56\n",
      "55\n",
      "54\n",
      "53\n",
      "52\n",
      "51\n",
      "50\n",
      "49\n",
      "48\n",
      "47\n",
      "46\n",
      "45\n",
      "44\n",
      "43\n",
      "42\n",
      "41\n",
      "40\n",
      "39\n",
      "38\n",
      "37\n",
      "36\n",
      "35\n",
      "34\n",
      "33\n",
      "32\n",
      "31\n",
      "30\n",
      "29\n",
      "28\n",
      "27\n",
      "26\n",
      "25\n",
      "24\n",
      "23\n",
      "22\n",
      "21\n",
      "20\n",
      "19\n",
      "18\n",
      "17\n",
      "16\n",
      "15\n",
      "14\n",
      "13\n",
      "12\n",
      "11\n",
      "10\n",
      "9\n",
      "8\n",
      "7\n",
      "6\n",
      "5\n",
      "4\n",
      "3\n",
      "2\n",
      "1\n"
     ]
    }
   ],
   "source": [
    "# 40. Print numbers from 100 to 1 using loop\n",
    "\n",
    "for i in range(100,0,-1):\n",
    "    print(i)"
   ]
  }
 ],
 "metadata": {
  "kernelspec": {
   "display_name": "base",
   "language": "python",
   "name": "python3"
  },
  "language_info": {
   "codemirror_mode": {
    "name": "ipython",
    "version": 3
   },
   "file_extension": ".py",
   "mimetype": "text/x-python",
   "name": "python",
   "nbconvert_exporter": "python",
   "pygments_lexer": "ipython3",
   "version": "3.12.7"
  }
 },
 "nbformat": 4,
 "nbformat_minor": 5
}
