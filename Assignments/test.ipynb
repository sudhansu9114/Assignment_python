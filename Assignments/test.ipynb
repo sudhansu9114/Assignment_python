{
 "cells": [
  {
   "cell_type": "markdown",
   "id": "5426668c",
   "metadata": {},
   "source": [
    "NumPy"
   ]
  },
  {
   "cell_type": "code",
   "execution_count": 9,
   "id": "2108abe1",
   "metadata": {},
   "outputs": [],
   "source": [
    "import numpy as np"
   ]
  },
  {
   "cell_type": "markdown",
   "id": "04ab14a2",
   "metadata": {},
   "source": [
    "1.Create a 1D array from a list.\n"
   ]
  },
  {
   "cell_type": "code",
   "execution_count": 5,
   "id": "5db10f46",
   "metadata": {},
   "outputs": [
    {
     "data": {
      "text/plain": [
       "array([1, 2, 3, 4, 5])"
      ]
     },
     "execution_count": 5,
     "metadata": {},
     "output_type": "execute_result"
    }
   ],
   "source": [
    "lst=[1,2,3,4,5]\n",
    "arr=np.array(lst)\n",
    "arr"
   ]
  },
  {
   "cell_type": "markdown",
   "id": "6685e60b",
   "metadata": {},
   "source": [
    "2. Create a 3x3 array of zeros.\n"
   ]
  },
  {
   "cell_type": "code",
   "execution_count": 8,
   "id": "d0b21789",
   "metadata": {},
   "outputs": [
    {
     "data": {
      "text/plain": [
       "array([[0., 0., 0.],\n",
       "       [0., 0., 0.],\n",
       "       [0., 0., 0.]])"
      ]
     },
     "execution_count": 8,
     "metadata": {},
     "output_type": "execute_result"
    }
   ],
   "source": [
    "arr=np.zeros([3,3])\n",
    "arr"
   ]
  },
  {
   "cell_type": "markdown",
   "id": "4b3228e3",
   "metadata": {},
   "source": [
    "3. Create a 2x2 array of ones."
   ]
  },
  {
   "cell_type": "code",
   "execution_count": 9,
   "id": "bf830125",
   "metadata": {},
   "outputs": [
    {
     "data": {
      "text/plain": [
       "array([[1., 1.],\n",
       "       [1., 1.]])"
      ]
     },
     "execution_count": 9,
     "metadata": {},
     "output_type": "execute_result"
    }
   ],
   "source": [
    "arr=np.ones([2,2])\n",
    "arr"
   ]
  },
  {
   "cell_type": "markdown",
   "id": "216a6008",
   "metadata": {},
   "source": [
    "4. Generate array from 0 to 10 (exclusive)."
   ]
  },
  {
   "cell_type": "code",
   "execution_count": 11,
   "id": "64b09867",
   "metadata": {},
   "outputs": [
    {
     "data": {
      "text/plain": [
       "array([0, 1, 2, 3, 4, 5, 6, 7, 8, 9])"
      ]
     },
     "execution_count": 11,
     "metadata": {},
     "output_type": "execute_result"
    }
   ],
   "source": [
    "arr=np.arange(0,10,1)\n",
    "arr"
   ]
  },
  {
   "cell_type": "markdown",
   "id": "33fc220e",
   "metadata": {},
   "source": [
    "5. Create 5 evenly spaced numbers between 0 and 1.\n"
   ]
  },
  {
   "cell_type": "code",
   "execution_count": 14,
   "id": "6a833bf1",
   "metadata": {},
   "outputs": [
    {
     "data": {
      "text/plain": [
       "array([0.  , 0.25, 0.5 , 0.75, 1.  ])"
      ]
     },
     "execution_count": 14,
     "metadata": {},
     "output_type": "execute_result"
    }
   ],
   "source": [
    "arr=np.linspace(0,1,5)\n",
    "arr"
   ]
  },
  {
   "cell_type": "markdown",
   "id": "36beae34",
   "metadata": {},
   "source": [
    "6. Create a 4x4 identity matrix."
   ]
  },
  {
   "cell_type": "code",
   "execution_count": 16,
   "id": "4e274f57",
   "metadata": {},
   "outputs": [
    {
     "data": {
      "text/plain": [
       "array([[1., 0., 0., 0.],\n",
       "       [0., 1., 0., 0.],\n",
       "       [0., 0., 1., 0.],\n",
       "       [0., 0., 0., 1.]])"
      ]
     },
     "execution_count": 16,
     "metadata": {},
     "output_type": "execute_result"
    }
   ],
   "source": [
    "arr=np.eye(4)\n",
    "arr"
   ]
  },
  {
   "cell_type": "markdown",
   "id": "f98bcaf1",
   "metadata": {},
   "source": [
    "7. Reshape 1D array to 2D."
   ]
  },
  {
   "cell_type": "code",
   "execution_count": 28,
   "id": "be6fed33",
   "metadata": {},
   "outputs": [
    {
     "data": {
      "text/plain": [
       "array([[1, 2],\n",
       "       [3, 4]])"
      ]
     },
     "execution_count": 28,
     "metadata": {},
     "output_type": "execute_result"
    }
   ],
   "source": [
    "arr=np.array([1,2,3,4])\n",
    "arr2=arr.reshape(2,2)\n",
    "arr2"
   ]
  },
  {
   "cell_type": "markdown",
   "id": "7d03d242",
   "metadata": {},
   "source": [
    "8. Get the shape and dtype of an array."
   ]
  },
  {
   "cell_type": "code",
   "execution_count": 42,
   "id": "e9d4128f",
   "metadata": {},
   "outputs": [
    {
     "name": "stdout",
     "output_type": "stream",
     "text": [
      "(1, 4)\n",
      "int64\n",
      "4\n"
     ]
    }
   ],
   "source": [
    "arr=np.array([[5,6,7,8]])\n",
    "np.shape(arr)\n",
    "print(arr.shape)\n",
    "print(arr.dtype)\n",
    "print(arr.size)"
   ]
  },
  {
   "cell_type": "markdown",
   "id": "f8ac921f",
   "metadata": {},
   "source": [
    "9. Reverse a NumPy array."
   ]
  },
  {
   "cell_type": "code",
   "execution_count": 60,
   "id": "844cdb09",
   "metadata": {},
   "outputs": [
    {
     "name": "stdout",
     "output_type": "stream",
     "text": [
      "[8 7 6 5]\n"
     ]
    }
   ],
   "source": [
    "arr=np.array([5,6,7,8])\n",
    "print(arr[::-1])"
   ]
  },
  {
   "cell_type": "markdown",
   "id": "5af24276",
   "metadata": {},
   "source": [
    "10. Extract even numbers from an array."
   ]
  },
  {
   "cell_type": "code",
   "execution_count": 10,
   "id": "616a2813",
   "metadata": {},
   "outputs": [
    {
     "data": {
      "text/plain": [
       "array([6, 8])"
      ]
     },
     "execution_count": 10,
     "metadata": {},
     "output_type": "execute_result"
    }
   ],
   "source": [
    "arr=np.array([5,6,7,8])\n",
    "even=arr[arr%2==0]\n",
    "even"
   ]
  },
  {
   "cell_type": "markdown",
   "id": "e49ee456",
   "metadata": {},
   "source": [
    "11. Find the max in each row."
   ]
  },
  {
   "cell_type": "code",
   "execution_count": 70,
   "id": "a0b534a7",
   "metadata": {},
   "outputs": [
    {
     "data": {
      "text/plain": [
       "array([4, 8])"
      ]
     },
     "execution_count": 70,
     "metadata": {},
     "output_type": "execute_result"
    }
   ],
   "source": [
    "arr=np.array([[1,2,3,4],[5,6,7,8]])\n",
    "arr\n",
    "arr.max(axis=1)"
   ]
  },
  {
   "cell_type": "markdown",
   "id": "af60589c",
   "metadata": {},
   "source": [
    "12. Compute the mean, std, and median of an array.\n"
   ]
  },
  {
   "cell_type": "code",
   "execution_count": 72,
   "id": "e5996011",
   "metadata": {},
   "outputs": [
    {
     "name": "stdout",
     "output_type": "stream",
     "text": [
      "mean: 6.5\n",
      "std: 1.118033988749895\n",
      "median: 6.5\n"
     ]
    }
   ],
   "source": [
    "arr=np.array([5,6,7,8])\n",
    "print(f\"mean: {arr.mean()}\")\n",
    "print(f\"std: {arr.std()}\")\n",
    "print(f\"median: {np.median(arr)}\")"
   ]
  },
  {
   "cell_type": "markdown",
   "id": "872d701b",
   "metadata": {},
   "source": [
    "13. Stack two arrays vertically."
   ]
  },
  {
   "cell_type": "code",
   "execution_count": 73,
   "id": "9a226f7d",
   "metadata": {},
   "outputs": [
    {
     "data": {
      "text/plain": [
       "array([[ 1,  2,  3,  4],\n",
       "       [ 5,  6,  7,  8],\n",
       "       [10, 20, 30, 40],\n",
       "       [50, 60, 70, 80]])"
      ]
     },
     "execution_count": 73,
     "metadata": {},
     "output_type": "execute_result"
    }
   ],
   "source": [
    "arr=np.array([[1,2,3,4],[5,6,7,8]])\n",
    "arr2=np.array([[10,20,30,40],[50,60,70,80]])\n",
    "np.concat((arr,arr2),axis=0)\n"
   ]
  },
  {
   "cell_type": "markdown",
   "id": "533a16f7",
   "metadata": {},
   "source": [
    "14. Stack two arrays horizontally."
   ]
  },
  {
   "cell_type": "code",
   "execution_count": 74,
   "id": "ddd6d8a5",
   "metadata": {},
   "outputs": [
    {
     "data": {
      "text/plain": [
       "array([[ 1,  2,  3,  4, 10, 20, 30, 40],\n",
       "       [ 5,  6,  7,  8, 50, 60, 70, 80]])"
      ]
     },
     "execution_count": 74,
     "metadata": {},
     "output_type": "execute_result"
    }
   ],
   "source": [
    "arr=np.array([[1,2,3,4],[5,6,7,8]])\n",
    "arr2=np.array([[10,20,30,40],[50,60,70,80]])\n",
    "np.concat((arr,arr2),axis=1)"
   ]
  },
  {
   "cell_type": "markdown",
   "id": "82160fef",
   "metadata": {},
   "source": [
    "15. Stack two arrays horizontally.\n"
   ]
  },
  {
   "cell_type": "code",
   "execution_count": 75,
   "id": "db301f51",
   "metadata": {},
   "outputs": [
    {
     "data": {
      "text/plain": [
       "array([[ 1,  2,  3,  4, 10, 20, 30, 40],\n",
       "       [ 5,  6,  7,  8, 50, 60, 70, 80]])"
      ]
     },
     "execution_count": 75,
     "metadata": {},
     "output_type": "execute_result"
    }
   ],
   "source": [
    "arr=np.array([[1,2,3,4],[5,6,7,8]])\n",
    "arr2=np.array([[10,20,30,40],[50,60,70,80]])\n",
    "np.concat((arr,arr2),axis=1)"
   ]
  },
  {
   "cell_type": "markdown",
   "id": "4e877ea8",
   "metadata": {},
   "source": [
    "16. Find the unique values and their counts."
   ]
  },
  {
   "cell_type": "code",
   "execution_count": 82,
   "id": "7dc2785b",
   "metadata": {},
   "outputs": [
    {
     "name": "stdout",
     "output_type": "stream",
     "text": [
      "{np.int64(1): np.int64(2), np.int64(2): np.int64(2), np.int64(3): np.int64(1), np.int64(4): np.int64(1), np.int64(5): np.int64(2), np.int64(6): np.int64(1), np.int64(7): np.int64(2), np.int64(8): np.int64(1)}\n"
     ]
    }
   ],
   "source": [
    "arr=np.array([[1,2,3,4,7,5],[5,6,7,8,2,1]])\n",
    "unique, counts = np.unique(arr, return_counts=True)\n",
    "unique_counts = dict(zip(unique, counts))  \n",
    "print(unique_counts) \n"
   ]
  },
  {
   "cell_type": "markdown",
   "id": "879b38d0",
   "metadata": {},
   "source": [
    "17. Replace NaN with column means.\n"
   ]
  },
  {
   "cell_type": "code",
   "execution_count": null,
   "id": "e55e0d73",
   "metadata": {},
   "outputs": [
    {
     "name": "stdout",
     "output_type": "stream",
     "text": [
      "[[ 1.  2. nan]\n",
      " [ 4. nan  6.]\n",
      " [ 7.  8.  9.]]\n"
     ]
    },
    {
     "data": {
      "text/plain": [
       "array([[1. , 2. , 7.5],\n",
       "       [4. , 5. , 6. ],\n",
       "       [7. , 8. , 9. ]])"
      ]
     },
     "execution_count": 12,
     "metadata": {},
     "output_type": "execute_result"
    }
   ],
   "source": [
    "arr = np.array([[1, 2, np.nan], [4, np.nan, 6], [7, 8, 9]])\n",
    "print(arr)\n",
    "col_mean = np.nanmean(arr, axis=0)\n",
    "inds = np.where(np.isnan(arr))\n",
    "arr[inds] = np.take(col_mean, inds[1])\n",
    "arr\n"
   ]
  },
  {
   "cell_type": "markdown",
   "id": "9fa051df",
   "metadata": {},
   "source": [
    "18. Get index of min and max values.\n"
   ]
  },
  {
   "cell_type": "code",
   "execution_count": null,
   "id": "c74b6de2",
   "metadata": {},
   "outputs": [
    {
     "name": "stdout",
     "output_type": "stream",
     "text": [
      "[7 8 9 1 2 3]\n",
      "9\n",
      "1\n"
     ]
    }
   ],
   "source": [
    "arr = np.array([7, 8, 9, 1, 2, 3])\n",
    "print(arr)\n",
    "print(arr[arr.argmax()])\n",
    "print(arr[arr.argmin()])\n",
    "\n"
   ]
  },
  {
   "cell_type": "markdown",
   "id": "ea1257d4",
   "metadata": {},
   "source": [
    "19. Create a 3D array of random integers."
   ]
  },
  {
   "cell_type": "code",
   "execution_count": null,
   "id": "c6cc786a",
   "metadata": {},
   "outputs": [
    {
     "name": "stdout",
     "output_type": "stream",
     "text": [
      "[[[6 3 9 4]\n",
      "  [5 8 5 1]\n",
      "  [3 5 6 9]]\n",
      "\n",
      " [[9 1 6 7]\n",
      "  [6 7 7 1]\n",
      "  [9 6 5 3]]]\n"
     ]
    }
   ],
   "source": [
    "arr = np.random.randint(0, 10, (2, 3, 4))\n",
    "print(arr)"
   ]
  },
  {
   "cell_type": "markdown",
   "id": "61844a5c",
   "metadata": {},
   "source": [
    "20. Use np.where() to replace values\n"
   ]
  },
  {
   "cell_type": "code",
   "execution_count": 26,
   "id": "0128cce3",
   "metadata": {},
   "outputs": [
    {
     "name": "stdout",
     "output_type": "stream",
     "text": [
      "[[1 2 3 4 5 5 5 8]]\n"
     ]
    }
   ],
   "source": [
    "arr=np.array([[1,2,3,4,5,60,70,8]])\n",
    "arr2=np.where(arr > 10,5,arr)\n",
    "print(arr2)\n"
   ]
  },
  {
   "cell_type": "markdown",
   "id": "2f74ec47",
   "metadata": {
    "vscode": {
     "languageId": "plaintext"
    }
   },
   "source": [
    "Pandas"
   ]
  },
  {
   "cell_type": "code",
   "execution_count": 2,
   "id": "537ab982",
   "metadata": {},
   "outputs": [],
   "source": [
    "import pandas as pd"
   ]
  },
  {
   "cell_type": "markdown",
   "id": "30bece49",
   "metadata": {},
   "source": [
    "1. Create a Series using a Python list.\n"
   ]
  },
  {
   "cell_type": "code",
   "execution_count": null,
   "id": "0a51bdcd",
   "metadata": {},
   "outputs": [
    {
     "data": {
      "text/plain": [
       "0    1\n",
       "1    2\n",
       "2    3\n",
       "3    4\n",
       "4    5\n",
       "dtype: int64"
      ]
     },
     "execution_count": 84,
     "metadata": {},
     "output_type": "execute_result"
    }
   ],
   "source": [
    "lst=[1,2,3,4,5]\n",
    "series=pd.Series(lst)\n",
    "series"
   ]
  },
  {
   "cell_type": "markdown",
   "id": "9a7038c5",
   "metadata": {},
   "source": [
    "2. Create a Series with custom string indices.\n",
    "\n",
    "\n"
   ]
  },
  {
   "cell_type": "code",
   "execution_count": null,
   "id": "04ce756a",
   "metadata": {},
   "outputs": [
    {
     "data": {
      "text/plain": [
       "1    1\n",
       "2    2\n",
       "3    3\n",
       "4    4\n",
       "5    5\n",
       "dtype: int64"
      ]
     },
     "execution_count": 85,
     "metadata": {},
     "output_type": "execute_result"
    }
   ],
   "source": [
    "lst=[1,2,3,4,5]\n",
    "series=pd.Series(lst,index=[1,2,3,4,5])\n",
    "series"
   ]
  },
  {
   "cell_type": "markdown",
   "id": "19ae6db0",
   "metadata": {},
   "source": [
    "3. Create a Series from a dictionary.\n"
   ]
  },
  {
   "cell_type": "code",
   "execution_count": 7,
   "id": "7f27cd84",
   "metadata": {},
   "outputs": [
    {
     "data": {
      "text/plain": [
       "1    a\n",
       "2    b\n",
       "3    c\n",
       "4    d\n",
       "5    e\n",
       "dtype: object"
      ]
     },
     "execution_count": 7,
     "metadata": {},
     "output_type": "execute_result"
    }
   ],
   "source": [
    "lst={\n",
    "    1:'a',\n",
    "    2:'b',\n",
    "    3:'c',\n",
    "    4:'d',\n",
    "    5:'e'}\n",
    "series=pd.Series(lst)\n",
    "series"
   ]
  },
  {
   "cell_type": "markdown",
   "id": "d505873f",
   "metadata": {},
   "source": [
    "4. Access first 3 elements of a Series.\n"
   ]
  },
  {
   "cell_type": "code",
   "execution_count": 8,
   "id": "8aa15890",
   "metadata": {},
   "outputs": [
    {
     "data": {
      "text/plain": [
       "a    1\n",
       "b    2\n",
       "c    3\n",
       "dtype: int64"
      ]
     },
     "execution_count": 8,
     "metadata": {},
     "output_type": "execute_result"
    }
   ],
   "source": [
    "ser=pd.Series([1,2,3,4,5],index=['a','b','c','d','e'])\n",
    "ser.head(3)"
   ]
  },
  {
   "cell_type": "markdown",
   "id": "8f759ac0",
   "metadata": {},
   "source": [
    "5. Filter Series elements greater than 50.\n",
    "\n"
   ]
  },
  {
   "cell_type": "code",
   "execution_count": 29,
   "id": "6fc0ad90",
   "metadata": {},
   "outputs": [
    {
     "name": "stdout",
     "output_type": "stream",
     "text": [
      "7     52\n",
      "9     95\n",
      "10    82\n",
      "dtype: int64\n"
     ]
    }
   ],
   "source": [
    "series=pd.Series([1,2,3,4,5,6,8,52,45,95,82])\n",
    "lst=series[series>50]\n",
    "print(lst)"
   ]
  },
  {
   "cell_type": "markdown",
   "id": "86562d48",
   "metadata": {},
   "source": [
    "6. Add two Series with different indices.\n",
    "\n"
   ]
  },
  {
   "cell_type": "code",
   "execution_count": 4,
   "id": "78bb2cad",
   "metadata": {},
   "outputs": [
    {
     "data": {
      "text/plain": [
       "1    41.0\n",
       "2    52.0\n",
       "3     NaN\n",
       "4     NaN\n",
       "5     NaN\n",
       "a     NaN\n",
       "b     NaN\n",
       "c     NaN\n",
       "dtype: float64"
      ]
     },
     "execution_count": 4,
     "metadata": {},
     "output_type": "execute_result"
    }
   ],
   "source": [
    "lst=[1,2,3,4,5]\n",
    "df=pd.Series(lst,index=[1,2,3,4,5])\n",
    "lst2=[10,20,30,40,50]\n",
    "df2=pd.Series(lst2,index=['a','b','c',1,2])\n",
    "df3=df+df2\n",
    "df3"
   ]
  },
  {
   "cell_type": "markdown",
   "id": "b09aa6fa",
   "metadata": {},
   "source": [
    "\n",
    "7. Multiply a Series by a scalar.\n"
   ]
  },
  {
   "cell_type": "code",
   "execution_count": 5,
   "id": "26aa5491",
   "metadata": {},
   "outputs": [
    {
     "name": "stdout",
     "output_type": "stream",
     "text": [
      "1     2\n",
      "2     4\n",
      "3     6\n",
      "4     8\n",
      "5    10\n",
      "dtype: int64\n"
     ]
    }
   ],
   "source": [
    "lst=[1,2,3,4,5]\n",
    "df=pd.Series(lst,index=[1,2,3,4,5])\n",
    "print(df*2)"
   ]
  },
  {
   "cell_type": "markdown",
   "id": "18f4cc3d",
   "metadata": {},
   "source": [
    "8. Use .multiply() method to multiply with scalar.\n"
   ]
  },
  {
   "cell_type": "code",
   "execution_count": 7,
   "id": "449e163c",
   "metadata": {},
   "outputs": [
    {
     "data": {
      "text/plain": [
       "1     2\n",
       "2     4\n",
       "3     6\n",
       "4     8\n",
       "5    10\n",
       "dtype: int64"
      ]
     },
     "execution_count": 7,
     "metadata": {},
     "output_type": "execute_result"
    }
   ],
   "source": [
    "lst=[1,2,3,4,5]\n",
    "df=pd.Series(lst,index=[1,2,3,4,5])\n",
    "np.multiply(df,2)\n"
   ]
  },
  {
   "cell_type": "markdown",
   "id": "ef461afc",
   "metadata": {},
   "source": [
    "10. Sort Series by values descending.\n"
   ]
  },
  {
   "cell_type": "code",
   "execution_count": null,
   "id": "cd1ebf3b",
   "metadata": {},
   "outputs": [
    {
     "data": {
      "text/plain": [
       "2    9\n",
       "5    6\n",
       "4    5\n",
       "0    5\n",
       "1    2\n",
       "3    1\n",
       "dtype: int64"
      ]
     },
     "execution_count": 33,
     "metadata": {},
     "output_type": "execute_result"
    }
   ],
   "source": [
    "series = pd.Series([5, 2, 9, 1, 5, 6])\n",
    "sorted_series = series.sort_values(ascending=False)\n",
    "sorted_series\n"
   ]
  },
  {
   "cell_type": "markdown",
   "id": "9cd5b813",
   "metadata": {},
   "source": [
    "11. Sort Series by index.\n"
   ]
  },
  {
   "cell_type": "code",
   "execution_count": 35,
   "id": "78572262",
   "metadata": {},
   "outputs": [
    {
     "data": {
      "text/plain": [
       "5    6\n",
       "4    5\n",
       "3    1\n",
       "2    9\n",
       "1    2\n",
       "0    5\n",
       "dtype: int64"
      ]
     },
     "execution_count": 35,
     "metadata": {},
     "output_type": "execute_result"
    }
   ],
   "source": [
    "series = pd.Series([5, 2, 9, 1, 5, 6])\n",
    "sorted_series = series.sort_index(ascending=False)\n",
    "sorted_series"
   ]
  },
  {
   "cell_type": "markdown",
   "id": "da4cc61b",
   "metadata": {},
   "source": [
    "12. Check for null values.\n",
    "\n"
   ]
  },
  {
   "cell_type": "code",
   "execution_count": null,
   "id": "f33e3cec",
   "metadata": {},
   "outputs": [
    {
     "name": "stdout",
     "output_type": "stream",
     "text": [
      "0    False\n",
      "1    False\n",
      "2     True\n",
      "3    False\n",
      "4     True\n",
      "dtype: bool\n"
     ]
    }
   ],
   "source": [
    "series = pd.Series([1, 2, None, 4, None])\n",
    "print(series.isnull())"
   ]
  },
  {
   "cell_type": "markdown",
   "id": "6c34d1a5",
   "metadata": {},
   "source": [
    "14. Concatenate two Series using concat().\n"
   ]
  },
  {
   "cell_type": "code",
   "execution_count": 37,
   "id": "0596409f",
   "metadata": {},
   "outputs": [
    {
     "name": "stdout",
     "output_type": "stream",
     "text": [
      "0    1\n",
      "1    2\n",
      "2    3\n",
      "3    4\n",
      "4    5\n",
      "0    5\n",
      "1    4\n",
      "2    3\n",
      "3    2\n",
      "4    1\n",
      "dtype: int64\n"
     ]
    }
   ],
   "source": [
    "ser1= pd.Series([1, 2, 3, 4, 5])\n",
    "ser2= pd.Series([5, 4, 3, 2, 1])\n",
    "print(pd.concat([ser1,ser2]))"
   ]
  },
  {
   "cell_type": "markdown",
   "id": "ec9793a2",
   "metadata": {},
   "source": [
    "15. Concatenate two Series using append().\n"
   ]
  },
  {
   "cell_type": "code",
   "execution_count": 41,
   "id": "5abed43e",
   "metadata": {},
   "outputs": [],
   "source": [
    "# append is no longer a part of pandas.\n",
    "# We have to use concat instead."
   ]
  },
  {
   "cell_type": "markdown",
   "id": "640d8e91",
   "metadata": {},
   "source": [
    "16. Retrieve first 5 elements using .head()\n",
    "\n"
   ]
  },
  {
   "cell_type": "code",
   "execution_count": null,
   "id": "5c4a99cb",
   "metadata": {},
   "outputs": [
    {
     "data": {
      "text/plain": [
       "a    1\n",
       "b    2\n",
       "c    3\n",
       "d    4\n",
       "e    5\n",
       "dtype: int64"
      ]
     },
     "execution_count": 3,
     "metadata": {},
     "output_type": "execute_result"
    }
   ],
   "source": [
    "series=pd.Series([1,2,3,4,5,6,7,8,9],index=['a','b','c','d','e','f','g','h','i'])\n",
    "series.head(5)"
   ]
  },
  {
   "cell_type": "markdown",
   "id": "70fddb7b",
   "metadata": {},
   "source": [
    "17. Retrieve last 5 elements using .tail()\n"
   ]
  },
  {
   "cell_type": "code",
   "execution_count": 4,
   "id": "fadb73cb",
   "metadata": {},
   "outputs": [
    {
     "data": {
      "text/plain": [
       "e    5\n",
       "f    6\n",
       "g    7\n",
       "h    8\n",
       "i    9\n",
       "dtype: int64"
      ]
     },
     "execution_count": 4,
     "metadata": {},
     "output_type": "execute_result"
    }
   ],
   "source": [
    "series=pd.Series([1,2,3,4,5,6,7,8,9],index=['a','b','c','d','e','f','g','h','i'])\n",
    "series.tail(5)"
   ]
  },
  {
   "cell_type": "markdown",
   "id": "2294bda2",
   "metadata": {},
   "source": [
    "18. Convert Series to DataFrame.\n"
   ]
  },
  {
   "cell_type": "code",
   "execution_count": 6,
   "id": "b1380b7b",
   "metadata": {},
   "outputs": [
    {
     "data": {
      "text/html": [
       "<div>\n",
       "<style scoped>\n",
       "    .dataframe tbody tr th:only-of-type {\n",
       "        vertical-align: middle;\n",
       "    }\n",
       "\n",
       "    .dataframe tbody tr th {\n",
       "        vertical-align: top;\n",
       "    }\n",
       "\n",
       "    .dataframe thead th {\n",
       "        text-align: right;\n",
       "    }\n",
       "</style>\n",
       "<table border=\"1\" class=\"dataframe\">\n",
       "  <thead>\n",
       "    <tr style=\"text-align: right;\">\n",
       "      <th></th>\n",
       "      <th>0</th>\n",
       "    </tr>\n",
       "  </thead>\n",
       "  <tbody>\n",
       "    <tr>\n",
       "      <th>a</th>\n",
       "      <td>1</td>\n",
       "    </tr>\n",
       "    <tr>\n",
       "      <th>b</th>\n",
       "      <td>2</td>\n",
       "    </tr>\n",
       "    <tr>\n",
       "      <th>c</th>\n",
       "      <td>3</td>\n",
       "    </tr>\n",
       "    <tr>\n",
       "      <th>d</th>\n",
       "      <td>4</td>\n",
       "    </tr>\n",
       "    <tr>\n",
       "      <th>e</th>\n",
       "      <td>5</td>\n",
       "    </tr>\n",
       "    <tr>\n",
       "      <th>f</th>\n",
       "      <td>6</td>\n",
       "    </tr>\n",
       "    <tr>\n",
       "      <th>g</th>\n",
       "      <td>7</td>\n",
       "    </tr>\n",
       "    <tr>\n",
       "      <th>h</th>\n",
       "      <td>8</td>\n",
       "    </tr>\n",
       "    <tr>\n",
       "      <th>i</th>\n",
       "      <td>9</td>\n",
       "    </tr>\n",
       "  </tbody>\n",
       "</table>\n",
       "</div>"
      ],
      "text/plain": [
       "   0\n",
       "a  1\n",
       "b  2\n",
       "c  3\n",
       "d  4\n",
       "e  5\n",
       "f  6\n",
       "g  7\n",
       "h  8\n",
       "i  9"
      ]
     },
     "execution_count": 6,
     "metadata": {},
     "output_type": "execute_result"
    }
   ],
   "source": [
    "series=pd.Series([1,2,3,4,5,6,7,8,9],index=['a','b','c','d','e','f','g','h','i'])\n",
    "df=pd.DataFrame(series)\n",
    "df"
   ]
  },
  {
   "cell_type": "markdown",
   "id": "fae5cb5e",
   "metadata": {},
   "source": [
    "19. Replace NaN with 0.\n"
   ]
  },
  {
   "cell_type": "code",
   "execution_count": 44,
   "id": "e4efe34f",
   "metadata": {},
   "outputs": [
    {
     "name": "stdout",
     "output_type": "stream",
     "text": [
      "a    1.0\n",
      "b    NaN\n",
      "c    3.0\n",
      "d    4.0\n",
      "e    NaN\n",
      "f    6.0\n",
      "g    NaN\n",
      "h    8.0\n",
      "i    9.0\n",
      "dtype: float64\n",
      "a    1.0\n",
      "b    0.0\n",
      "c    3.0\n",
      "d    4.0\n",
      "e    0.0\n",
      "f    6.0\n",
      "g    0.0\n",
      "h    8.0\n",
      "i    9.0\n",
      "dtype: float64\n"
     ]
    }
   ],
   "source": [
    "series=pd.Series([1,np.nan,3,4,np.nan,6,np.nan,8,9],index=['a','b','c','d','e','f','g','h','i'])\n",
    "print(series)\n",
    "series.replace(np.nan, 0, inplace=True)\n",
    "print(series)"
   ]
  },
  {
   "cell_type": "markdown",
   "id": "410fb0f9",
   "metadata": {},
   "source": [
    "20. Drop missing values.\n"
   ]
  },
  {
   "cell_type": "code",
   "execution_count": 45,
   "id": "87a4167e",
   "metadata": {},
   "outputs": [
    {
     "name": "stdout",
     "output_type": "stream",
     "text": [
      "a    1.0\n",
      "b    NaN\n",
      "c    3.0\n",
      "d    4.0\n",
      "e    NaN\n",
      "f    6.0\n",
      "g    NaN\n",
      "h    8.0\n",
      "i    9.0\n",
      "dtype: float64\n"
     ]
    },
    {
     "data": {
      "text/plain": [
       "a    1.0\n",
       "c    3.0\n",
       "d    4.0\n",
       "f    6.0\n",
       "h    8.0\n",
       "i    9.0\n",
       "dtype: float64"
      ]
     },
     "execution_count": 45,
     "metadata": {},
     "output_type": "execute_result"
    }
   ],
   "source": [
    "series=pd.Series([1,np.nan,3,4,np.nan,6,np.nan,8,9],index=['a','b','c','d','e','f','g','h','i'])\n",
    "print(series)\n",
    "filtered=series.dropna()\n",
    "filtered"
   ]
  },
  {
   "cell_type": "markdown",
   "id": "8cd11f96",
   "metadata": {},
   "source": [
    "21. Check Series data type.\n",
    "\n"
   ]
  },
  {
   "cell_type": "code",
   "execution_count": 31,
   "id": "ddf24282",
   "metadata": {},
   "outputs": [
    {
     "data": {
      "text/plain": [
       "dtype('int64')"
      ]
     },
     "execution_count": 31,
     "metadata": {},
     "output_type": "execute_result"
    }
   ],
   "source": [
    "series=pd.Series([1,2,3,4,5,6,7,8,9],index=['a','b','c','d','e','f','g','h','i'])\n",
    "series.dtype"
   ]
  },
  {
   "cell_type": "markdown",
   "id": "4cbe802e",
   "metadata": {},
   "source": []
  }
 ],
 "metadata": {
  "kernelspec": {
   "display_name": "Python 3",
   "language": "python",
   "name": "python3"
  },
  "language_info": {
   "codemirror_mode": {
    "name": "ipython",
    "version": 3
   },
   "file_extension": ".py",
   "mimetype": "text/x-python",
   "name": "python",
   "nbconvert_exporter": "python",
   "pygments_lexer": "ipython3",
   "version": "3.13.2"
  }
 },
 "nbformat": 4,
 "nbformat_minor": 5
}
