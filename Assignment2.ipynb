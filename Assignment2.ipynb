{
 "cells": [
  {
   "cell_type": "code",
   "execution_count": null,
   "id": "8ee8bd68",
   "metadata": {},
   "outputs": [],
   "source": [
    "# 1. Write a function to check if a number is prime\n",
    "\n",
    "def check_prime(n):\n",
    "    if n<=1:\n",
    "        print(\" is not a prime number\")\n",
    "        \n",
    "    else:\n",
    "        for i in range(2,int(n/2)+1):\n",
    "            if n%i==0:\n",
    "                print(\"is not a prime number\")\n",
    "                break\n",
    "            else:\n",
    "                print(\"is a prime number\")\n",
    "                break\n",
    "            \n",
    "check_prime(6)"
   ]
  },
  {
   "cell_type": "code",
   "execution_count": null,
   "id": "af722cfb",
   "metadata": {},
   "outputs": [],
   "source": [
    "# 2. Create a function to calculate the area of a rectangle\n",
    "\n",
    "def area_of_rectangle(length, width):\n",
    "    area = length * width\n",
    "    return area\n",
    "print(\"Area of rectangle is\", area_of_rectangle(5, 10))"
   ]
  },
  {
   "cell_type": "code",
   "execution_count": null,
   "id": "8fd05f84",
   "metadata": {},
   "outputs": [],
   "source": [
    "# 3. Create a function to find the maximum of three numbers\n",
    "\n",
    "def maximum_of_three(a,b,c):\n",
    "    if a>=b:\n",
    "        if a>c:\n",
    "            print(f\"{a} is the largest number\")\n",
    "            \n",
    "        else:\n",
    "            print(f\"{c} is the largest number\")\n",
    "            \n",
    "    else:\n",
    "        if b>c:\n",
    "            print(f\"{b} is the largest number\")\n",
    "            \n",
    "        else:\n",
    "            print(f\"{c} is the largest number\")\n",
    "            \n",
    "maximum_of_three(500,485,50)"
   ]
  },
  {
   "cell_type": "code",
   "execution_count": null,
   "id": "8e3261ad",
   "metadata": {},
   "outputs": [],
   "source": [
    "# 4. Write a function to reverse a string\n",
    "\n",
    "def reverse_string(string):\n",
    "    reversed_string= string[::-1]\n",
    "    return reversed_string\n",
    "\n",
    "print(reverse_string(\"Hello World!\"))"
   ]
  },
  {
   "cell_type": "code",
   "execution_count": null,
   "id": "a72ad335",
   "metadata": {},
   "outputs": [],
   "source": [
    "# 5. Create a function to count the number of vowels in a string\n",
    "\n",
    "def count_vowel(str):\n",
    "    count=0\n",
    "    for char in str:\n",
    "        if char in \"aeiouAEIOU\" :\n",
    "            count+=1\n",
    "            \n",
    "    print(count)\n",
    "            \n",
    "count_vowel(\"I am A disCO DancEr\")"
   ]
  },
  {
   "cell_type": "code",
   "execution_count": null,
   "id": "5f61230e",
   "metadata": {},
   "outputs": [],
   "source": [
    "# 6. Write a function to check if a string is a palindrome\n",
    "\n",
    "def check_pallindrome(str):\n",
    "    rev_str=str[::-1]\n",
    "    if str==rev_str:\n",
    "        print(f\"String {str} is pallindrome\")\n",
    "        \n",
    "    else:\n",
    "        print(f\"String {str} is not pallindrome\")\n",
    "    \n",
    "check_pallindrome(\"eee madam eee\")"
   ]
  },
  {
   "cell_type": "code",
   "execution_count": 5,
   "id": "07ba1aa1",
   "metadata": {},
   "outputs": [
    {
     "name": "stdout",
     "output_type": "stream",
     "text": [
      "22\n"
     ]
    }
   ],
   "source": [
    "# 7. Create a function to calculate the sum of a list of numbers\n",
    "\n",
    "def sum_list(num):\n",
    "    return sum(num)\n",
    "\n",
    "num=list(map(int,input(\"Enter numbers\").split()))\n",
    "print(sum_list(num))\n"
   ]
  },
  {
   "cell_type": "code",
   "execution_count": 7,
   "id": "392c8d8d",
   "metadata": {},
   "outputs": [
    {
     "name": "stdout",
     "output_type": "stream",
     "text": [
      "[0, 1, 1, 2, 3, 5]\n"
     ]
    }
   ],
   "source": [
    "# 8. Return the Fibonacci sequence up to n terms\n",
    "\n",
    "def fibonacci(n):\n",
    "    if n <= 0:\n",
    "        return []\n",
    "    elif n == 1:\n",
    "        return [0]\n",
    "    sequence = [0, 1]\n",
    "    while len(sequence) < n:\n",
    "        sequence.append(sequence[-1] + sequence[-2])\n",
    "    return sequence\n",
    "\n",
    "print(fibonacci(6))  \n"
   ]
  },
  {
   "cell_type": "code",
   "execution_count": 6,
   "id": "64c6e9fd",
   "metadata": {},
   "outputs": [
    {
     "name": "stdout",
     "output_type": "stream",
     "text": [
      "32.0\n"
     ]
    }
   ],
   "source": [
    "# 9. Convert Celsius to Fahrenheit\n",
    "\n",
    "def celsius_to_fahrenheit(c):\n",
    "    return (c * 9/5) + 32\n",
    "\n",
    "print(celsius_to_fahrenheit(0))"
   ]
  },
  {
   "cell_type": "code",
   "execution_count": 8,
   "id": "745aac27",
   "metadata": {},
   "outputs": [
    {
     "name": "stdout",
     "output_type": "stream",
     "text": [
      "1\n"
     ]
    }
   ],
   "source": [
    "# 10. Find the minimum value in a list\n",
    "\n",
    "def min_in_list(lst):\n",
    "    return min(lst)\n",
    "\n",
    "# Example usage:\n",
    "print(min_in_list([5, 1, 8, 3, 2]))"
   ]
  },
  {
   "cell_type": "code",
   "execution_count": 1,
   "id": "7cba2fc0",
   "metadata": {},
   "outputs": [
    {
     "name": "stdout",
     "output_type": "stream",
     "text": [
      "h appears 1 times\n"
     ]
    }
   ],
   "source": [
    "# 11. Create a function to count how many times a character appears in a string. \n",
    "\n",
    "# def count_char(s, ch):\n",
    "#     return s.count(ch)\n",
    "\n",
    "s=input(\"Enter string\")\n",
    "char=input(\"Enter character to count\")\n",
    "count=0\n",
    "for i in s:\n",
    "    if i==char:\n",
    "        count+=1\n",
    "        \n",
    "print(f\"{char} appears {count} times\") "
   ]
  },
  {
   "cell_type": "code",
   "execution_count": 3,
   "id": "3bdd27d9",
   "metadata": {},
   "outputs": [
    {
     "name": "stdout",
     "output_type": "stream",
     "text": [
      "5 is not a perfect number\n"
     ]
    }
   ],
   "source": [
    "# 12. Check if a number is a perfect number\n",
    "\n",
    "n=int(input(\"Enter the number\"))\n",
    "sum=0\n",
    "for i in range(1,n):\n",
    "    if n%i==0:\n",
    "        sum+=i\n",
    "        \n",
    "if n==sum:\n",
    "    print(f\"{n} is a perfect number\")\n",
    "else:\n",
    "    print(f\"{n} is not a perfect number\")"
   ]
  },
  {
   "cell_type": "code",
   "execution_count": 6,
   "id": "706e93de",
   "metadata": {},
   "outputs": [
    {
     "name": "stdout",
     "output_type": "stream",
     "text": [
      "15\n"
     ]
    }
   ],
   "source": [
    "# 13. Find the sum of digits of a number\n",
    "\n",
    "num=input(\"Enter the number\")\n",
    "sum=0\n",
    "for i in num:\n",
    "    sum=sum+int(i)\n",
    "    \n",
    "print(sum)"
   ]
  },
  {
   "cell_type": "code",
   "execution_count": 8,
   "id": "6947b511",
   "metadata": {},
   "outputs": [
    {
     "name": "stdout",
     "output_type": "stream",
     "text": [
      "{'2': 1, '5': 2, '6': 2}\n"
     ]
    }
   ],
   "source": [
    "# 14. Return a dictionary of character frequencies in a string\n",
    "\n",
    "s= input(\"Enter the string\")\n",
    "freq={}\n",
    "for char in s:\n",
    "    freq[char]=freq.get(char,0)+1\n",
    "\n",
    "print(freq)"
   ]
  },
  {
   "cell_type": "code",
   "execution_count": 1,
   "id": "0c8a3666",
   "metadata": {},
   "outputs": [
    {
     "name": "stdout",
     "output_type": "stream",
     "text": [
      "40.0\n"
     ]
    }
   ],
   "source": [
    "# 15. Return the average of a list of numbers\n",
    "\n",
    "num=list(map(int,input(\"Enter the number\").split()))\n",
    "av=float(sum(num)/len(num))\n",
    "print(av)"
   ]
  },
  {
   "cell_type": "code",
   "execution_count": null,
   "id": "de454a93",
   "metadata": {},
   "outputs": [],
   "source": [
    "# 16. Create a function that accepts a number and prints its multiplication table.\n",
    "def multiplication_table(n):\n",
    "    for i in range(1, 11):\n",
    "        print(f\"{n} x {i} = {n * i}\")"
   ]
  },
  {
   "cell_type": "code",
   "execution_count": null,
   "id": "96926bb5",
   "metadata": {},
   "outputs": [],
   "source": [
    "# 17. Write a function that accepts a list and returns the list in reverse order. \n",
    "def reverse_list(lst):\n",
    "    return lst[::-1]"
   ]
  },
  {
   "cell_type": "code",
   "execution_count": null,
   "id": "1bddcb34",
   "metadata": {},
   "outputs": [],
   "source": [
    "# 18. Write a function to find the second largest number in a list. \n",
    "def second_largest(lst):\n",
    "    if len(lst) < 2:\n",
    "        return None\n",
    "    first = second = float('-inf')\n",
    "    for number in lst:\n",
    "        if number > first:\n",
    "            second = first\n",
    "            first = number\n",
    "        elif first > number > second:\n",
    "            second = number\n",
    "    return second if second != float('-inf') else None"
   ]
  },
  {
   "cell_type": "code",
   "execution_count": null,
   "id": "2e9081fb",
   "metadata": {},
   "outputs": [],
   "source": [
    "# 19. Create a function that accepts a list of integers and returns only the even ones. \n",
    "def filter_even_numbers(lst):\n",
    "    return [num for num in lst if num % 2 == 0]"
   ]
  },
  {
   "cell_type": "code",
   "execution_count": null,
   "id": "0e60aa33",
   "metadata": {},
   "outputs": [],
   "source": [
    "# 20. Write a function to check if all characters in a string are unique. \n",
    "def are_characters_unique(s):\n",
    "    return len(s) == len(set(s))"
   ]
  },
  {
   "cell_type": "code",
   "execution_count": null,
   "id": "15644145",
   "metadata": {},
   "outputs": [],
   "source": [
    "# 21. Create a function to calculate the greatest common divisor (GCD) of two numbers. \n",
    "def gcd(a, b):\n",
    "    while b:\n",
    "        a, b = b, a % b\n",
    "    return a"
   ]
  },
  {
   "cell_type": "code",
   "execution_count": null,
   "id": "a540af35",
   "metadata": {},
   "outputs": [],
   "source": [
    "# 22. Write a function to find the least common multiple (LCM) of two numbers. \n",
    "def lcm(a, b):\n",
    "    return abs(a * b) // gcd(a, b)"
   ]
  },
  {
   "cell_type": "code",
   "execution_count": null,
   "id": "7be5788a",
   "metadata": {},
   "outputs": [],
   "source": [
    "# 23. Create a function to remove duplicates from a list. \n",
    "def remove_duplicates(lst):\n",
    "    return list(set(lst))"
   ]
  },
  {
   "cell_type": "code",
   "execution_count": null,
   "id": "21a56f6a",
   "metadata": {},
   "outputs": [],
   "source": [
    "# 24. Write a recursive function to compute the factorial of a number. \n",
    "def factorial(n):\n",
    "    if n == 0 or n == 1:\n",
    "        return 1\n",
    "    else:\n",
    "        return n * factorial(n - 1)"
   ]
  },
  {
   "cell_type": "code",
   "execution_count": null,
   "id": "82f56bb4",
   "metadata": {},
   "outputs": [],
   "source": [
    "# 25. Create a function that checks if a number is an Armstrong number. \n",
    "def is_armstrong_number(num):\n",
    "    digits = str(num)\n",
    "    power = len(digits)\n",
    "    total = sum(int(digit) ** power for digit in digits)\n",
    "    return total == num"
   ]
  },
  {
   "cell_type": "code",
   "execution_count": null,
   "id": "5ab35b24",
   "metadata": {},
   "outputs": [],
   "source": [
    "# 26. Write a function that returns all prime numbers up to n. \n",
    "def primes_up_to_n(n):\n",
    "    primes = []\n",
    "    for num in range(2, n + 1):\n",
    "        is_prime = True\n",
    "        for i in range(2, int(num**0.5) + 1):\n",
    "            if num % i == 0:\n",
    "                is_prime = False\n",
    "                break\n",
    "        if is_prime:\n",
    "            primes.append(num)\n",
    "    return primes"
   ]
  },
  {
   "cell_type": "code",
   "execution_count": null,
   "id": "4c1cdb48",
   "metadata": {},
   "outputs": [],
   "source": [
    "# 27. Create a function that accepts a sentence and returns the longest word. \n",
    "def longest_word(sentence):\n",
    "    words = sentence.split()\n",
    "    return max(words, key=len)"
   ]
  },
  {
   "cell_type": "code",
   "execution_count": null,
   "id": "4e31edab",
   "metadata": {},
   "outputs": [],
   "source": [
    "# 28. Write a function to compute the power of a number using recursion. \n",
    "def power(base, exp):\n",
    "    if exp == 0:\n",
    "        return 1\n",
    "    elif exp < 0:\n",
    "        return 1 / power(base, -exp)\n",
    "    else:\n",
    "        return base * power(base, exp - 1)"
   ]
  },
  {
   "cell_type": "code",
   "execution_count": null,
   "id": "af5e7d27",
   "metadata": {},
   "outputs": [],
   "source": [
    "# 29. Create a function that flattens a nested list. \n",
    "def flatten(nested_list):\n",
    "    flat_list = []\n",
    "    for item in nested_list:\n",
    "        if isinstance(item, list):\n",
    "            flat_list.extend(flatten(item))\n",
    "        else:\n",
    "            flat_list.append(item)\n",
    "    return flat_list"
   ]
  },
  {
   "cell_type": "code",
   "execution_count": null,
   "id": "378977aa",
   "metadata": {},
   "outputs": [],
   "source": [
    "# 30. Write a function to check if a list is sorted. \n",
    "def is_sorted(lst):\n",
    "    return lst == sorted(lst)"
   ]
  },
  {
   "cell_type": "code",
   "execution_count": null,
   "id": "f32e01da",
   "metadata": {},
   "outputs": [],
   "source": [
    "# 31. Create a function to merge two sorted lists into one sorted list. \n",
    "def merge_sorted_lists(list1, list2):\n",
    "    merged_list = []\n",
    "    i = j = 0\n",
    "    while i < len(list1) and j < len(list2):\n",
    "        if list1[i] < list2[j]:\n",
    "            merged_list.append(list1[i])\n",
    "            i += 1\n",
    "        else:\n",
    "            merged_list.append(list2[j])\n",
    "            j += 1\n",
    "    merged_list.extend(list1[i:])\n",
    "    merged_list.extend(list2[j:])\n",
    "    return merged_list"
   ]
  },
  {
   "cell_type": "code",
   "execution_count": null,
   "id": "2f4352f5",
   "metadata": {},
   "outputs": [],
   "source": [
    "# 32. Write a function to find the most frequent element in a list. \n",
    "def most_frequent(lst):\n",
    "    frequency = {}\n",
    "    for item in lst:\n",
    "        frequency[item] = frequency.get(item, 0) + 1\n",
    "    return max(frequency, key=frequency.get)"
   ]
  },
  {
   "cell_type": "code",
   "execution_count": null,
   "id": "7ed9cb39",
   "metadata": {},
   "outputs": [],
   "source": [
    "# 33. Create a function that returns the median of a list. \n",
    "def median(lst):\n",
    "    sorted_lst = sorted(lst)\n",
    "    n = len(sorted_lst)\n",
    "    mid = n // 2\n",
    "    if n % 2 == 0:\n",
    "        return (sorted_lst[mid - 1] + sorted_lst[mid]) / 2\n",
    "    else:\n",
    "        return sorted_lst[mid]"
   ]
  },
  {
   "cell_type": "code",
   "execution_count": null,
   "id": "55fc4d23",
   "metadata": {},
   "outputs": [],
   "source": [
    "# 34. Create a function that finds the intersection of two lists. \n",
    "def intersection(list1, list2):\n",
    "    return list(set(list1) & set(list2))"
   ]
  },
  {
   "cell_type": "code",
   "execution_count": null,
   "id": "0ca04ac0",
   "metadata": {},
   "outputs": [],
   "source": [
    "# 35. Write a function that accepts variable number of arguments and returns their product. \n",
    "def product_of_args(*args):\n",
    "    product = 1\n",
    "    for num in args:\n",
    "        product *= num\n",
    "    return product"
   ]
  },
  {
   "cell_type": "code",
   "execution_count": null,
   "id": "5778134b",
   "metadata": {},
   "outputs": [],
   "source": [
    "# 36. Write a function that returns a list of tuples (element, index) from a list. \n",
    "def list_with_indices(lst):\n",
    "    return [(element, index) for index, element in enumerate(lst)]"
   ]
  },
  {
   "cell_type": "code",
   "execution_count": null,
   "id": "2277004b",
   "metadata": {},
   "outputs": [],
   "source": [
    "# 37. Create a function that accepts a string and returns a dictionary of word counts. \n",
    "def word_count(s):\n",
    "    words = s.split()\n",
    "    count_dict = {}\n",
    "    for word in words:\n",
    "        count_dict[word] = count_dict.get(word, 0) + 1\n",
    "    return count_dict"
   ]
  },
  {
   "cell_type": "code",
   "execution_count": null,
   "id": "23dbe244",
   "metadata": {},
   "outputs": [],
   "source": [
    "# 38. Write a function that checks if a sentence is a pangram. \n",
    "def is_pangram(sentence):\n",
    "    alphabet = set('abcdefghijklmnopqrstuvwxyz')\n",
    "    return alphabet <= set(sentence.lower())"
   ]
  },
  {
   "cell_type": "code",
   "execution_count": null,
   "id": "2a142147",
   "metadata": {},
   "outputs": [],
   "source": [
    "# 39. Create a function that accepts a list and a value, and returns the index of the value (or -1). \n",
    "def index_of_value(lst, value):\n",
    "    try:\n",
    "        return lst.index(value)\n",
    "    except ValueError:\n",
    "        return -1"
   ]
  },
  {
   "cell_type": "code",
   "execution_count": null,
   "id": "73dc231a",
   "metadata": {},
   "outputs": [],
   "source": [
    "# 40. Write a function that counts the number of uppercase and lowercase characters in a string.\n",
    "def count_case(s):\n",
    "    upper_count = sum(1 for char in s if char.isupper())\n",
    "    lower_count = sum(1 for char in s if char.islower())\n",
    "    return upper_count, lower_count"
   ]
  }
 ],
 "metadata": {
  "kernelspec": {
   "display_name": "base",
   "language": "python",
   "name": "python3"
  },
  "language_info": {
   "codemirror_mode": {
    "name": "ipython",
    "version": 3
   },
   "file_extension": ".py",
   "mimetype": "text/x-python",
   "name": "python",
   "nbconvert_exporter": "python",
   "pygments_lexer": "ipython3",
   "version": "3.12.7"
  }
 },
 "nbformat": 4,
 "nbformat_minor": 5
}
