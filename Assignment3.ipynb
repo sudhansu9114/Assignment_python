{
 "cells": [
  {
   "cell_type": "code",
   "execution_count": 3,
   "id": "e0458443",
   "metadata": {},
   "outputs": [],
   "source": [
    "# 1. Create a simple class `Person` with name and age as attributes. \n",
    "\n",
    "class Person:\n",
    "    def __init__(self, name, age):\n",
    "        self.name = name\n",
    "        self.age = age\n"
   ]
  },
  {
   "cell_type": "code",
   "execution_count": null,
   "id": "037d5fc3",
   "metadata": {},
   "outputs": [
    {
     "name": "stdout",
     "output_type": "stream",
     "text": [
      "Hello, my name is Alice and I am 30 years old.\n"
     ]
    }
   ],
   "source": [
    "# 2. Add a method to the `Person` class that prints a greeting. \n",
    "\n",
    "class Person:\n",
    "    def __init__(self, name, age):\n",
    "        self.name = name\n",
    "        self.age = age\n",
    "    def greet(self):\n",
    "        print(f\"Hello, my name is {self.name} and I am {self.age} years old.\")\n",
    "        \n",
    "me= Person(\"Alice\", 30)\n",
    "me.greet()"
   ]
  },
  {
   "cell_type": "code",
   "execution_count": null,
   "id": "5374907b",
   "metadata": {},
   "outputs": [
    {
     "name": "stdout",
     "output_type": "stream",
     "text": [
      "I am a class variable\n",
      "Class Variable: I am a class variable\n",
      "Instance Variable: I am an instance variable\n"
     ]
    }
   ],
   "source": [
    "# 3. Create a class with a class variable and instance variable. \n",
    "\n",
    "class Example:\n",
    "    class_variable = \"I am a class variable\"\n",
    "    \n",
    "    def __init__(self, instance_variable):\n",
    "        self.instance_variable = instance_variable\n",
    "        \n",
    "    print(class_variable)\n",
    "    def show_variables(self):\n",
    "        print(f\"Class Variable: {Example.class_variable}\")\n",
    "        print(f\"Instance Variable: {self.instance_variable}\")\n",
    "    \n",
    "ex= Example(\"I am an instance variable\")\n",
    "ex.show_variables()"
   ]
  },
  {
   "cell_type": "code",
   "execution_count": null,
   "id": "40de04e0",
   "metadata": {},
   "outputs": [
    {
     "name": "stdout",
     "output_type": "stream",
     "text": [
      "This is private\n"
     ]
    }
   ],
   "source": [
    "# 4. Create a private attribute in a class and access it using a method. \n",
    "\n",
    "class PrivateExample:\n",
    "    def __init__(self, value):\n",
    "        self.__private_variable = value  # Private\n",
    "    \n",
    "    def get_private_variable(self):\n",
    "        return self.__private_variable  \n",
    "    \n",
    "private_ex = PrivateExample(\"This is private\")\n",
    "print(private_ex.get_private_variable())"
   ]
  },
  {
   "cell_type": "code",
   "execution_count": null,
   "id": "d594f330",
   "metadata": {},
   "outputs": [
    {
     "name": "stdout",
     "output_type": "stream",
     "text": [
      "25\n"
     ]
    }
   ],
   "source": [
    "# 5. Create a class with a method that returns the square of a number. \n",
    "\n",
    "class SquareCalculator:\n",
    "    def square(self, number):\n",
    "        return number ** 2\n",
    "    \n",
    "square_calculator = SquareCalculator()\n",
    "print(square_calculator.square(5))"
   ]
  },
  {
   "cell_type": "code",
   "execution_count": null,
   "id": "870d2caa",
   "metadata": {},
   "outputs": [
    {
     "name": "stdout",
     "output_type": "stream",
     "text": [
      "Object 1\n",
      "Object 2\n"
     ]
    }
   ],
   "source": [
    " # 6. Create two objects of a class and demonstrate that they are independent. \n",
    " \n",
    "class IndependentExample:\n",
    "    def __init__(self, value):\n",
    "        self.value = value\n",
    "        \n",
    "obj1 = IndependentExample(\"Object 1\")\n",
    "obj2 = IndependentExample(\"Object 2\")\n",
    "print(obj1.value)  \n",
    "print(obj2.value)  \n"
   ]
  },
  {
   "cell_type": "code",
   "execution_count": null,
   "id": "b8ac58dc",
   "metadata": {},
   "outputs": [
    {
     "name": "stdout",
     "output_type": "stream",
     "text": [
      "Name: Bob, Age: 25\n"
     ]
    }
   ],
   "source": [
    "# 7. Create a class and use a method to set its attributes. \n",
    "\n",
    "class AttributeSetter:\n",
    "    def __init__(self):\n",
    "        self.name = \"\"\n",
    "        self.age = 0\n",
    "        \n",
    "    def set_attributes(self, name, age):\n",
    "        self.name = name\n",
    "        self.age = age\n",
    "        \n",
    "obj= AttributeSetter()\n",
    "obj.set_attributes(\"Bob\", 25)\n",
    "print(f\"Name: {obj.name}, Age: {obj.age}\")"
   ]
  },
  {
   "cell_type": "code",
   "execution_count": null,
   "id": "4edcde93",
   "metadata": {},
   "outputs": [
    {
     "name": "stdout",
     "output_type": "stream",
     "text": [
      "True\n",
      "True\n"
     ]
    }
   ],
   "source": [
    "# 8. Demonstrate use of `isinstance()` with a class. \n",
    "\n",
    "class Animal:\n",
    "    def __init__(self, species):\n",
    "        self.species = species\n",
    "    def is_instance(self):\n",
    "        return isinstance(self, Animal) \n",
    "    \n",
    "dog = Animal(\"Dog\")\n",
    "cat = Animal(\"Cat\")\n",
    "print(dog.is_instance())  \n",
    "print(cat.is_instance())  "
   ]
  },
  {
   "cell_type": "code",
   "execution_count": null,
   "id": "b424655b",
   "metadata": {},
   "outputs": [
    {
     "name": "stdout",
     "output_type": "stream",
     "text": [
      "Hello from Parent!\n",
      "Hello from Child!\n",
      "I am 10 years old.\n"
     ]
    }
   ],
   "source": [
    "# 9. Demonstrate single inheritance in Python. \n",
    "\n",
    "class Parent:\n",
    "    def __init__(self, name):\n",
    "        self.name = name\n",
    "        \n",
    "    def greet(self):\n",
    "        print(f\"Hello from {self.name}!\")\n",
    "        \n",
    "class Child(Parent):\n",
    "    def __init__(self, name, age):\n",
    "        super().__init__(name)\n",
    "        self.age = age\n",
    "        \n",
    "    def greet(self):\n",
    "        super().greet()\n",
    "        print(f\"I am {self.age} years old.\")\n",
    "        \n",
    "parent= Parent(\"Parent\")\n",
    "child = Child(\"Child\", 10)\n",
    "parent.greet()\n",
    "child.greet()"
   ]
  },
  {
   "cell_type": "code",
   "execution_count": 40,
   "id": "d6796dde",
   "metadata": {},
   "outputs": [
    {
     "name": "stdout",
     "output_type": "stream",
     "text": [
      "Base value: Base\n",
      "Child1 value: Child1\n",
      "Child2 value: Child2\n"
     ]
    }
   ],
   "source": [
    "# 10. Create a base class and derive two child classes with different methods(multilevel inheritance). \n",
    "\n",
    "class Base:\n",
    "    def __init__(self, base_value):\n",
    "        self.base_value = base_value\n",
    "        \n",
    "    def show_base(self):\n",
    "        print(f\"Base value: {self.base_value}\")\n",
    "        \n",
    "class Child1(Base):\n",
    "    def __init__(self, base_value, child1_value):\n",
    "        super().__init__(base_value)\n",
    "        self.child1_value = child1_value\n",
    "        \n",
    "    def show_child1(self):\n",
    "        print(f\"Child1 value: {self.child1_value}\")\n",
    "        \n",
    "class Child2(Child1):\n",
    "    def __init__(self, base_value, child1_value, child2_value):\n",
    "        super().__init__(base_value, child1_value)\n",
    "        self.child2_value = child2_value\n",
    "        \n",
    "    def show_child2(self):\n",
    "        print(f\"Child2 value: {self.child2_value}\")\n",
    "        \n",
    "base = Base(\"Base\")\n",
    "child1 = Child1(\"Base\", \"Child1\")\n",
    "child2 = Child2(\"Base\", \"Child1\", \"Child2\")\n",
    "base.show_base()\n",
    "child1.show_child1()\n",
    "child2.show_child2()"
   ]
  },
  {
   "cell_type": "code",
   "execution_count": null,
   "id": "64d0773d",
   "metadata": {},
   "outputs": [
    {
     "name": "stdout",
     "output_type": "stream",
     "text": [
      "Animal sound\n",
      "Bark\n",
      "Meow\n"
     ]
    }
   ],
   "source": [
    "# 11. Demonstrate method overriding in inheritance. \n",
    "\n",
    "class Animal:\n",
    "    def sound(self):\n",
    "        return \"Animal sound\"\n",
    "class Dog(Animal):\n",
    "    def sound(self):\n",
    "        return \"Bark\"\n",
    "class Cat(Animal):\n",
    "    def sound(self):\n",
    "        return \"Meow\"\n",
    "    \n",
    "animal= Animal()\n",
    "dog = Dog()\n",
    "cat = Cat()\n",
    "print(animal.sound())\n",
    "print(dog.sound())  \n",
    "print(cat.sound())  "
   ]
  },
  {
   "cell_type": "code",
   "execution_count": 44,
   "id": "4f86c02a",
   "metadata": {},
   "outputs": [
    {
     "name": "stdout",
     "output_type": "stream",
     "text": [
      "Hello from Parent!\n",
      "Hello from Child!\n",
      "I am 10 years old.\n"
     ]
    }
   ],
   "source": [
    "# 12. Use `super()` to call a parent class method. \n",
    "\n",
    "class Parent:\n",
    "    def __init__(self, name):\n",
    "        self.name = name\n",
    "        \n",
    "    def greet(self):\n",
    "        print(f\"Hello from {self.name}!\")\n",
    "        \n",
    "class Child(Parent):\n",
    "    def __init__(self, name, age):\n",
    "        super().__init__(name)\n",
    "        self.age = age\n",
    "        \n",
    "    def greet(self):\n",
    "        super().greet()\n",
    "        print(f\"I am {self.age} years old.\")\n",
    "        \n",
    "parent = Parent(\"Parent\")\n",
    "child = Child(\"Child\", 10)\n",
    "parent.greet()\n",
    "child.greet()"
   ]
  },
  {
   "cell_type": "code",
   "execution_count": 45,
   "id": "7f8b7cfd",
   "metadata": {},
   "outputs": [
    {
     "name": "stdout",
     "output_type": "stream",
     "text": [
      "This is the implementation of the abstract method.\n"
     ]
    }
   ],
   "source": [
    "# 13. Create an abstract base class using `abc` module. \n",
    "\n",
    "from abc import ABC, abstractmethod\n",
    "class AbstractClass(ABC):\n",
    "    @abstractmethod\n",
    "    def abstract_method(self):\n",
    "        pass\n",
    "class ConcreteClass(AbstractClass):\n",
    "    def abstract_method(self):\n",
    "        print(\"This is the implementation of the abstract method.\")\n",
    "        \n",
    "concrete = ConcreteClass()\n",
    "concrete.abstract_method()"
   ]
  },
  {
   "cell_type": "code",
   "execution_count": 46,
   "id": "11343d10",
   "metadata": {},
   "outputs": [
    {
     "name": "stdout",
     "output_type": "stream",
     "text": [
      "Method from Base1\n",
      "Method from Base2\n",
      "Method from Derived\n"
     ]
    }
   ],
   "source": [
    "# 14. Demonstrate multiple inheritance in Python. \n",
    "\n",
    "class Base1:\n",
    "    def method1(self):\n",
    "        return \"Method from Base1\"\n",
    "class Base2:\n",
    "    def method2(self):\n",
    "        return \"Method from Base2\"\n",
    "class Derived(Base1, Base2):\n",
    "    def method3(self):\n",
    "        return \"Method from Derived\"\n",
    "    \n",
    "derived = Derived()\n",
    "print(derived.method1())\n",
    "print(derived.method2())\n",
    "print(derived.method3())"
   ]
  },
  {
   "cell_type": "code",
   "execution_count": 47,
   "id": "4f15027b",
   "metadata": {},
   "outputs": [
    {
     "name": "stdout",
     "output_type": "stream",
     "text": [
      "10\n",
      "20\n"
     ]
    }
   ],
   "source": [
    "# 15.  Demonstrate encapsulation using getter and setter. \n",
    "\n",
    "class Encapsulated:\n",
    "    def __init__(self, value):\n",
    "        self.__value = value  \n",
    "    \n",
    "    def get_value(self):\n",
    "        return self.__value  \n",
    "    \n",
    "    def set_value(self, value):\n",
    "            self.__value = value\n",
    "        \n",
    "encapsulated = Encapsulated(10)\n",
    "print(encapsulated.get_value())\n",
    "encapsulated.set_value(20)\n",
    "print(encapsulated.get_value())"
   ]
  },
  {
   "cell_type": "code",
   "execution_count": 48,
   "id": "62f555f3",
   "metadata": {},
   "outputs": [
    {
     "name": "stdout",
     "output_type": "stream",
     "text": [
      "Area: 78.5\n",
      "Area: 16\n"
     ]
    }
   ],
   "source": [
    "# 16. Write a program to demonstrate polymorphism with a common method. \n",
    "\n",
    "class Shape:\n",
    "    def area(self):\n",
    "        pass\n",
    "class Circle(Shape):\n",
    "    def __init__(self, radius):\n",
    "        self.radius = radius\n",
    "    def area(self):\n",
    "        return 3.14 * self.radius ** 2\n",
    "    \n",
    "class Square(Shape):\n",
    "    def __init__(self, side):\n",
    "        self.side = side\n",
    "    def area(self):\n",
    "        return self.side ** 2\n",
    "    \n",
    "shapes = [Circle(5), Square(4)]\n",
    "for shape in shapes:\n",
    "    print(f\"Area: {shape.area()}\") "
   ]
  },
  {
   "cell_type": "code",
   "execution_count": 49,
   "id": "13c7681d",
   "metadata": {},
   "outputs": [
    {
     "name": "stdout",
     "output_type": "stream",
     "text": [
      "Number of employees created: 2\n"
     ]
    }
   ],
   "source": [
    "# 17.  Create a class `Employee` with a method to display the number of employees created. \n",
    "\n",
    "class Employee:\n",
    "    count = 0  \n",
    "    \n",
    "    def __init__(self, name):\n",
    "        self.name = name\n",
    "        Employee.count += 1  \n",
    "        \n",
    "    @classmethod\n",
    "    def display_count(cls):\n",
    "        print(f\"Number of employees created: {cls.count}\")\n",
    "        \n",
    "alice = Employee(\"Alice\")\n",
    "bob = Employee(\"Bob\")  \n",
    "Employee.display_count()\n"
   ]
  },
  {
   "cell_type": "code",
   "execution_count": 51,
   "id": "ca5c6c3f",
   "metadata": {},
   "outputs": [
    {
     "name": "stdout",
     "output_type": "stream",
     "text": [
      "Name: Alice, Age: 30\n",
      "Name: Default Name, Age: 0\n"
     ]
    }
   ],
   "source": [
    "# 18.  Demonstrate constructor overloading using default arguments. \n",
    "\n",
    "class OverloadedConstructor:\n",
    "    def __init__(self, name=\"Default Name\", age=0):\n",
    "        self.name = name\n",
    "        self.age = age\n",
    "        \n",
    "    def display(self):\n",
    "        print(f\"Name: {self.name}, Age: {self.age}\")\n",
    "        \n",
    "obj1 = OverloadedConstructor(\"Alice\", 30)\n",
    "obj2 = OverloadedConstructor()\n",
    "obj1.display()\n",
    "obj2.display()"
   ]
  },
  {
   "cell_type": "code",
   "execution_count": 52,
   "id": "b192b242",
   "metadata": {},
   "outputs": [
    {
     "name": "stdout",
     "output_type": "stream",
     "text": [
      "Deposited: 1000, New Balance: 1000\n",
      "Withdrew: 500, New Balance: 500\n",
      "Withdrawal amount must be positive and less than or equal to the balance.\n"
     ]
    }
   ],
   "source": [
    "# 19.  Implement a bank account system with deposit and withdrawal methods. \n",
    "\n",
    "class BankAccount:\n",
    "    def __init__(self, account_number, balance=0):\n",
    "        self.account_number = account_number\n",
    "        self.balance = balance\n",
    "        \n",
    "    def deposit(self, amount):\n",
    "        if amount > 0:\n",
    "            self.balance += amount\n",
    "            print(f\"Deposited: {amount}, New Balance: {self.balance}\")\n",
    "        else:\n",
    "            print(\"Deposit amount must be positive.\")\n",
    "            \n",
    "    def withdraw(self, amount):\n",
    "        if 0 < amount <= self.balance:\n",
    "            self.balance -= amount\n",
    "            print(f\"Withdrew: {amount}, New Balance: {self.balance}\")\n",
    "        else:\n",
    "            print(\"Withdrawal amount must be positive and less than or equal to the balance.\")\n",
    "            \n",
    "account = BankAccount(\"123456789\")\n",
    "account.deposit(1000)\n",
    "account.withdraw(500)\n",
    "account.withdraw(600)"
   ]
  },
  {
   "cell_type": "code",
   "execution_count": 53,
   "id": "3b07fc03",
   "metadata": {},
   "outputs": [
    {
     "name": "stdout",
     "output_type": "stream",
     "text": [
      "Area: 15\n",
      "Perimeter: 16\n"
     ]
    }
   ],
   "source": [
    "# 20.  Create a class `Rectangle` with method to calculate area and perimeter. \n",
    "\n",
    "class Rectangle:\n",
    "    def __init__(self, length, width):\n",
    "        self.length = length\n",
    "        self.width = width\n",
    "        \n",
    "    def area(self):\n",
    "        return self.length * self.width\n",
    "    \n",
    "    def perimeter(self):\n",
    "        return 2 * (self.length + self.width)\n",
    "    \n",
    "rect = Rectangle(5, 3)\n",
    "print(f\"Area: {rect.area()}\")\n",
    "print(f\"Perimeter: {rect.perimeter()}\")"
   ]
  }
 ],
 "metadata": {
  "kernelspec": {
   "display_name": "Python 3",
   "language": "python",
   "name": "python3"
  },
  "language_info": {
   "codemirror_mode": {
    "name": "ipython",
    "version": 3
   },
   "file_extension": ".py",
   "mimetype": "text/x-python",
   "name": "python",
   "nbconvert_exporter": "python",
   "pygments_lexer": "ipython3",
   "version": "3.13.2"
  }
 },
 "nbformat": 4,
 "nbformat_minor": 5
}
