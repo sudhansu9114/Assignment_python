{
 "cells": [
  {
   "cell_type": "code",
   "execution_count": 11,
   "id": "2e677584-35fb-4623-8ad3-2d0bcf1225f9",
   "metadata": {},
   "outputs": [
    {
     "name": "stdout",
     "output_type": "stream",
     "text": [
      "is not a prime number\n"
     ]
    }
   ],
   "source": [
    "def check_prime(n):\n",
    "    if n<=1:\n",
    "        print(\" is not a prime number\")\n",
    "        \n",
    "    else:\n",
    "        for i in range(2,int(n/2)+1):\n",
    "            if n%i==0:\n",
    "                print(\"is not a prime number\")\n",
    "                break\n",
    "            else:\n",
    "                print(\"is a prime number\")\n",
    "                break\n",
    "            \n",
    "check_prime(6)"
   ]
  },
  {
   "cell_type": "code",
   "execution_count": 12,
   "id": "bb07b8d3",
   "metadata": {},
   "outputs": [
    {
     "name": "stdout",
     "output_type": "stream",
     "text": [
      "Area of rectangle is 50\n"
     ]
    }
   ],
   "source": [
    "def area_of_rectangle(length, width):\n",
    "    area = length * width\n",
    "    return area\n",
    "print(\"Area of rectangle is\", area_of_rectangle(5, 10))"
   ]
  },
  {
   "cell_type": "code",
   "execution_count": 16,
   "id": "af1d036c",
   "metadata": {},
   "outputs": [
    {
     "name": "stdout",
     "output_type": "stream",
     "text": [
      "500 is the largest number\n"
     ]
    }
   ],
   "source": [
    "def maximum_of_three(a,b,c):\n",
    "    if a>=b:\n",
    "        if a>c:\n",
    "            print(f\"{a} is the largest number\")\n",
    "            \n",
    "        else:\n",
    "            print(f\"{c} is the largest number\")\n",
    "            \n",
    "    else:\n",
    "        if b>c:\n",
    "            print(f\"{b} is the largest number\")\n",
    "            \n",
    "        else:\n",
    "            print(f\"{c} is the largest number\")\n",
    "            \n",
    "maximum_of_three(500,485,50)"
   ]
  },
  {
   "cell_type": "code",
   "execution_count": 18,
   "id": "d23a39e3",
   "metadata": {},
   "outputs": [
    {
     "name": "stdout",
     "output_type": "stream",
     "text": [
      "!dlroW olleH\n"
     ]
    }
   ],
   "source": [
    "def reverse_string(string):\n",
    "    reversed_string= string[::-1]\n",
    "    return reversed_string\n",
    "\n",
    "print(reverse_string(\"Hello World!\"))"
   ]
  },
  {
   "cell_type": "code",
   "execution_count": 25,
   "id": "ae305f5d",
   "metadata": {},
   "outputs": [
    {
     "name": "stdout",
     "output_type": "stream",
     "text": [
      "7\n"
     ]
    }
   ],
   "source": [
    "def count_vowel(str):\n",
    "    count=0\n",
    "    for char in str:\n",
    "        if char in \"aeiouAEIOU\" :\n",
    "            count+=1\n",
    "            \n",
    "    print(count)\n",
    "            \n",
    "count_vowel(\"I am A disCO DancEr\")"
   ]
  },
  {
   "cell_type": "code",
   "execution_count": 28,
   "id": "22d2ccd5",
   "metadata": {},
   "outputs": [
    {
     "name": "stdout",
     "output_type": "stream",
     "text": [
      "String eee madam eee is pallindrome\n"
     ]
    }
   ],
   "source": [
    "def check_pallindrome(str):\n",
    "    rev_str=str[::-1]\n",
    "    if str==rev_str:\n",
    "        print(f\"String {str} is pallindrome\")\n",
    "        \n",
    "    else:\n",
    "        print(f\"String {str} is not pallindrome\")\n",
    "    \n",
    "check_pallindrome(\"eee madam eee\")"
   ]
  },
  {
   "cell_type": "code",
   "execution_count": 30,
   "id": "88f76bc1",
   "metadata": {},
   "outputs": [
    {
     "name": "stdout",
     "output_type": "stream",
     "text": [
      "sumit\n",
      "john\n"
     ]
    }
   ],
   "source": [
    "name=\"john\"\n",
    "def function():\n",
    "    name= \"sumit\"\n",
    "    print(name)\n",
    "    \n",
    "function()\n",
    "print(name)"
   ]
  },
  {
   "cell_type": "code",
   "execution_count": 31,
   "id": "84e643eb",
   "metadata": {},
   "outputs": [
    {
     "data": {
      "text/plain": [
       "100"
      ]
     },
     "execution_count": 31,
     "metadata": {},
     "output_type": "execute_result"
    }
   ],
   "source": [
    "x=99\n",
    "def func(y):\n",
    "    z=x+y\n",
    "    return z\n",
    "func(1)"
   ]
  },
  {
   "cell_type": "code",
   "execution_count": 36,
   "id": "e4c08dfe",
   "metadata": {},
   "outputs": [
    {
     "name": "stdout",
     "output_type": "stream",
     "text": [
      "Honda\n",
      "Cbz\n"
     ]
    }
   ],
   "source": [
    "class Bike:\n",
    "    def __init__(self,brand,model):\n",
    "        self.brand=brand\n",
    "        self.model=model\n",
    "    \n",
    "myBike= Bike(\"Honda\",\"Cbz\")\n",
    "print(myBike.brand)\n",
    "print(myBike.model)"
   ]
  },
  {
   "cell_type": "code",
   "execution_count": 52,
   "id": "64329642",
   "metadata": {},
   "outputs": [
    {
     "name": "stdout",
     "output_type": "stream",
     "text": [
      "Full name of car is  Hyundai  Creta\n",
      "a\n",
      "4\n"
     ]
    }
   ],
   "source": [
    "class Car:\n",
    "    def __init__(self,brand,model):\n",
    "        self.brand=brand\n",
    "        self.model=model\n",
    "        \n",
    "    def fullname(self):\n",
    "        print(\"Full name of car is \",self.brand,\"\",self.model)\n",
    "        \n",
    "myCar= Car(\"Hyundai\", \"Creta\")\n",
    "myCar.fullname()\n",
    "\n",
    "class ElectricCar(Car):\n",
    "    def __init__(self,size,brand,model):\n",
    "        super().__init__(brand,model)\n",
    "        self.size=size\n",
    "mynew=ElectricCar(4,\"a\",\"b\")\n",
    "print(mynew.brand)\n",
    "print(mynew.size)\n",
    "  "
   ]
  },
  {
   "cell_type": "code",
   "execution_count": null,
   "id": "c46c7885",
   "metadata": {},
   "outputs": [],
   "source": [
    "class ElectricCar(Car):\n",
    "    def __init__(self, brand, model, size):\n",
    "        super().__init__(brand, model)\n",
    "        self.size = size"
   ]
  },
  {
   "cell_type": "code",
   "execution_count": 9,
   "id": "59d059ec",
   "metadata": {},
   "outputs": [
    {
     "name": "stdout",
     "output_type": "stream",
     "text": [
      "Hyundai\n",
      "Tata\n"
     ]
    }
   ],
   "source": [
    "class Car:\n",
    "    def __init__(self,brand,top_speed,colour):\n",
    "        self.__brand=brand\n",
    "        self.top_speed=top_speed\n",
    "        self.colour=colour\n",
    "        \n",
    "    def get_brand(self):\n",
    "        return self.__brand\n",
    "    def set_brand(self,new_brand):\n",
    "        self.__brand=new_brand\n",
    "    def get_data(self):\n",
    "        print(self.__brand)\n",
    "        print(self.top_speed)\n",
    "        print(self.colour)\n",
    "    \n",
    "       \n",
    "    \n",
    "        \n",
    "myCar= Car(\"Hyundai\",150,\"Red\")\n",
    "# print(myCar.brand)\n",
    "# myCar.get_data()\n",
    "print(myCar.get_brand())\n",
    "myCar.set_brand(\"Tata\")\n",
    "print(myCar.get_brand())"
   ]
  },
  {
   "cell_type": "code",
   "execution_count": 24,
   "id": "78df203d",
   "metadata": {},
   "outputs": [
    {
     "name": "stdout",
     "output_type": "stream",
     "text": [
      "toyota\n",
      "Supra\n",
      "2020\n",
      "Supra engine started.\n",
      "Tesla\n",
      "Model S\n",
      "2021\n",
      "Model S electric engine started.\n",
      "Total cars created: 2\n"
     ]
    }
   ],
   "source": [
    "class Vehicle:\n",
    "    def start_engine(self):\n",
    "        pass\n",
    "    \n",
    "class Car(Vehicle):\n",
    "    total_cars = 0\n",
    "    def __init__(self,brand,model,year):\n",
    "        Car.total_cars += 1\n",
    "        self.brand = brand\n",
    "        self.__model = model\n",
    "        self.year = year\n",
    "        self.is_running = False\n",
    "        \n",
    "    def get_model(self):\n",
    "        return self.__model\n",
    "    \n",
    "    def set_model(self, new_model):\n",
    "        self.__model = new_model\n",
    "        \n",
    "    def start_engine(self):\n",
    "        self.is_running = True\n",
    "        print(f\"{self.__model} engine started.\")\n",
    "        \n",
    "    def get_data(self):\n",
    "        print(self.brand)\n",
    "        print(self.__model)\n",
    "        print(self.year)\n",
    "        \n",
    "class ElectricCar(Car):\n",
    "    # def __init__(self, brand, __model, year, battery_size):\n",
    "    #     super().__init__(brand, __model, year)\n",
    "    #     self.battery_size = battery_size\n",
    "        \n",
    "    def start_engine(self):\n",
    "        self.is_running = True\n",
    "        print(f\"{self.get_model()} electric engine started.\")\n",
    "        \n",
    "myCar = Car(\"toyota\",\"Supra\",2020)\n",
    "myCar.get_data()\n",
    "myCar.start_engine()\n",
    "newCar = ElectricCar(\"Tesla\", \"Model S\", 2021)\n",
    "newCar.get_data()\n",
    "newCar.start_engine()  \n",
    "print(\"Total cars created:\", Car.total_cars)     "
   ]
  },
  {
   "cell_type": "code",
   "execution_count": null,
   "id": "652d661f",
   "metadata": {},
   "outputs": [],
   "source": [
    "import numpy as np"
   ]
  },
  {
   "cell_type": "code",
   "execution_count": 2,
   "id": "e58c11ae",
   "metadata": {},
   "outputs": [
    {
     "name": "stdout",
     "output_type": "stream",
     "text": [
      "[1 2 3]\n"
     ]
    }
   ],
   "source": [
    "arr_1d=np.array([1,2,3])\n",
    "print(arr_1d)"
   ]
  },
  {
   "cell_type": "code",
   "execution_count": 4,
   "id": "75e24131",
   "metadata": {},
   "outputs": [
    {
     "name": "stdout",
     "output_type": "stream",
     "text": [
      "[[1 2 3]\n",
      " [4 5 6]]\n"
     ]
    }
   ],
   "source": [
    "arr_2d=np.array([[1,2,3],[4,5,6]])\n",
    "print(arr_2d)"
   ]
  },
  {
   "cell_type": "code",
   "execution_count": 5,
   "id": "6f5b3d94",
   "metadata": {},
   "outputs": [
    {
     "name": "stdout",
     "output_type": "stream",
     "text": [
      "[1, 2, 3, 1, 2, 3]\n",
      "[2 4 6]\n"
     ]
    }
   ],
   "source": [
    "lst=[1,2,3]\n",
    "print(lst*2)\n",
    "print(arr_1d*2)"
   ]
  },
  {
   "cell_type": "code",
   "execution_count": 8,
   "id": "85947b33",
   "metadata": {},
   "outputs": [
    {
     "name": "stdout",
     "output_type": "stream",
     "text": [
      "[0. 0. 0.]\n",
      "[[1. 1. 1. 1. 1.]\n",
      " [1. 1. 1. 1. 1.]\n",
      " [1. 1. 1. 1. 1.]]\n",
      "[[1. 0. 0. 0. 0.]\n",
      " [0. 1. 0. 0. 0.]\n",
      " [0. 0. 1. 0. 0.]\n",
      " [0. 0. 0. 1. 0.]\n",
      " [0. 0. 0. 0. 1.]]\n"
     ]
    }
   ],
   "source": [
    "arr1=np.zeros(3)\n",
    "print(arr1)\n",
    "arr2=np.ones((3,5))\n",
    "print(arr2)\n",
    "arr3=np.eye(5)\n",
    "print(arr3)"
   ]
  },
  {
   "cell_type": "code",
   "execution_count": 174,
   "id": "e2ff291f",
   "metadata": {},
   "outputs": [
    {
     "name": "stdout",
     "output_type": "stream",
     "text": [
      "[  0.  40.  80. 120. 160. 200.]\n",
      "[ 0  3  6  9 12 15 18]\n",
      "[[10 10 10]\n",
      " [10 10 10]]\n",
      "[[6.43066737e+01 7.64631536e+01 3.52424076e+01 9.41157562e+01\n",
      "  2.93980940e-02]\n",
      " [1.06763752e+01 9.73125202e+01 6.48819848e+01 5.19066716e+01\n",
      "  7.33355273e+01]\n",
      " [3.11626109e+01 6.83681357e+00 2.34827104e+01 8.70394445e+01\n",
      "  1.46780795e+01]\n",
      " [5.40854642e+01 7.97502915e+01 9.90326944e+01 4.28437610e+00\n",
      "  9.92220568e+01]\n",
      " [5.45737833e+01 9.27779358e+01 9.10252294e+01 6.58159860e+01\n",
      "  6.37864862e+01]]\n",
      "[[10  6  1  7  7]\n",
      " [ 4  6  8 10  9]\n",
      " [ 3  8  3  7  2]\n",
      " [ 5 10  0  8  9]\n",
      " [ 8  4  5  1  3]]\n",
      "[0, 3, 6, 9, 12, 15, 18]\n",
      "[ 0.  3.  6.  9. 12. 15. 18.]\n",
      " eye(N, M=None, k=0, dtype=<class 'float'>, order='C', *, device=None,\n",
      "     like=None)\n",
      "\n",
      "Return a 2-D array with ones on the diagonal and zeros elsewhere.\n",
      "\n",
      "Parameters\n",
      "----------\n",
      "N : int\n",
      "  Number of rows in the output.\n",
      "M : int, optional\n",
      "  Number of columns in the output. If None, defaults to `N`.\n",
      "k : int, optional\n",
      "  Index of the diagonal: 0 (the default) refers to the main diagonal,\n",
      "  a positive value refers to an upper diagonal, and a negative value\n",
      "  to a lower diagonal.\n",
      "dtype : data-type, optional\n",
      "  Data-type of the returned array.\n",
      "order : {'C', 'F'}, optional\n",
      "    Whether the output should be stored in row-major (C-style) or\n",
      "    column-major (Fortran-style) order in memory.\n",
      "device : str, optional\n",
      "    The device on which to place the created array. Default: None.\n",
      "    For Array-API interoperability only, so must be ``\"cpu\"`` if passed.\n",
      "\n",
      "    .. versionadded:: 2.0.0\n",
      "like : array_like, optional\n",
      "        Reference object to allow the creation of arrays which are not\n",
      "        NumPy arrays. If an array-like passed in as ``like`` supports\n",
      "        the ``__array_function__`` protocol, the result will be defined\n",
      "        by it. In this case, it ensures the creation of an array object\n",
      "        compatible with that passed in via this argument.\n",
      "\n",
      "    .. versionadded:: 1.20.0\n",
      "\n",
      "Returns\n",
      "-------\n",
      "I : ndarray of shape (N,M)\n",
      "  An array where all elements are equal to zero, except for the `k`-th\n",
      "  diagonal, whose values are equal to one.\n",
      "\n",
      "See Also\n",
      "--------\n",
      "identity : (almost) equivalent function\n",
      "diag : diagonal 2-D array from a 1-D array specified by the user.\n",
      "\n",
      "Examples\n",
      "--------\n",
      ">>> import numpy as np\n",
      ">>> np.eye(2, dtype=int)\n",
      "array([[1, 0],\n",
      "       [0, 1]])\n",
      ">>> np.eye(3, k=1)\n",
      "array([[0.,  1.,  0.],\n",
      "       [0.,  0.,  1.],\n",
      "       [0.,  0.,  0.]])\n",
      "None\n",
      "7\n",
      "(7,)\n",
      "int64\n"
     ]
    }
   ],
   "source": [
    "lin=np.linspace(0,200,6)\n",
    "print(lin)\n",
    "rng=np.arange(0,21,3)\n",
    "print(rng)\n",
    "arr4=np.full((2,3),10)\n",
    "print(arr4)\n",
    "rnd=np.random.rand(5,5)*100\n",
    "print(rnd)\n",
    "rndint=np.random.randint(11,size=(5,5))\n",
    "print(rndint)\n",
    "\n",
    "print(rng.tolist())\n",
    "print(rng.astype(dtype=float))\n",
    "print(np.info(np.eye))\n",
    "print(rng.size)\n",
    "print(rng.shape)\n",
    "print(rng.dtype)"
   ]
  },
  {
   "cell_type": "code",
   "execution_count": 197,
   "id": "7774b156",
   "metadata": {},
   "outputs": [
    {
     "name": "stdout",
     "output_type": "stream",
     "text": [
      "[4.94e-323 9.88e-323 1.48e-322 2.47e-322 1.98e-322]\n",
      "[10 20 30 40 50]\n",
      "[[10 20 30]\n",
      " [40 55 89]]\n",
      "[[10 20 30 40 55]\n",
      " [89  0  0  0  0]\n",
      " [ 0  0  0  0  0]\n",
      " [ 0  0  0  0  0]\n",
      " [ 0  0  0  0  0]\n",
      " [ 0  0  0  0  0]]\n"
     ]
    }
   ],
   "source": [
    "arr6=np.array([10,20,30,50,40])\n",
    "np.copy(arr6)\n",
    "print(arr6.view(dtype=float))\n",
    "arr6.sort()\n",
    "print(arr6)\n",
    "\n",
    "arr7=np.array([[10,30,20],[55,40,89]])\n",
    "arr7.sort(axis=1)\n",
    "print(arr7)\n",
    "\n",
    "# print(arr7.flatten())\n",
    "\n",
    "# print(arr7.T)\n",
    "# print(arr7)\n",
    "\n",
    "# arr7.reshape(2,3)\n",
    "arr7.resize(6,5)\n",
    "print(arr7)"
   ]
  },
  {
   "cell_type": "code",
   "execution_count": null,
   "id": "7e1bdbd4",
   "metadata": {},
   "outputs": [
    {
     "name": "stdout",
     "output_type": "stream",
     "text": [
      "[ 10  20  30  40  50 100]\n",
      "[ 10  20  30  40  50 100]\n",
      "[[1 2 3]\n",
      " [4 5 6]\n",
      " [7 8 9]]\n",
      "[[1 2]\n",
      " [4 5]\n",
      " [7 8]]\n",
      "[[ 10  20  30  40  50]\n",
      " [ 60  70  80  90 100]]\n"
     ]
    },
    {
     "data": {
      "text/plain": [
       "np.float64(1.0)"
      ]
     },
     "execution_count": 72,
     "metadata": {},
     "output_type": "execute_result"
    }
   ],
   "source": [
    "import numpy as np\n",
    "arr7=np.array([10,20,30,40,50])\n",
    "arr7=np.append(arr7,100)\n",
    "print(arr7)\n",
    "\n",
    "# arr7=np.insert(arr7,2,25)\n",
    "print(arr7)\n",
    "\n",
    "arr8=np.array([[1,2,3],[4,5,6],[7,8,9]])\n",
    "print(arr8)\n",
    "\n",
    "arr8=np.delete(arr8,2,axis=1)\n",
    "print(arr8)\n",
    "\n",
    "\n",
    "arr9=np.array([[10,20,30,40,50],[60,70,80,90,100]])\n",
    "# print(arr9[0,1])\n",
    "\n",
    "# arr9[0,1]=40\n",
    "# print(arr9[0,1])\n",
    "\n",
    "# arr9[:1]\n",
    "\n",
    "# arr7=np.split(arr7,2)\n",
    "# print(arr7)\n",
    "np.hsplit(arr9,1)\n",
    "print(arr9)\n",
    "\n",
    "arr10=np.array([1,2,3,4,5,6,7,8,9])\n",
    "arr11=np.array([10,20,30,40,50,60,70,80,90])\n",
    "# np.add(arr10,arr11)\n",
    "# np.subtract(arr10,arr11)\n",
    "# np.multiply(arr10,arr11)\n",
    "# np.divide(arr10,arr11)\n",
    "# np.power(arr10,10)\n",
    "# np.sqrt(arr10)\n",
    "# np.sin(arr10)\n",
    "# np.log(arr10)\n",
    "# np.abs(arr10)\n",
    "# np.ceil(arr10)\n",
    "# np.round(arr10)\n",
    "# np.mean(arr10)\n",
    "# arr10.sum()\n",
    "# arr10.min()\n",
    "# arr10.max()\n",
    "# np.var(arr10)\n",
    "# np.std(arr10)\n",
    "# np.corrcoef(arr10)\n",
    "\n"
   ]
  }
 ],
 "metadata": {
  "kernelspec": {
   "display_name": "Python 3",
   "language": "python",
   "name": "python3"
  },
  "language_info": {
   "codemirror_mode": {
    "name": "ipython",
    "version": 3
   },
   "file_extension": ".py",
   "mimetype": "text/x-python",
   "name": "python",
   "nbconvert_exporter": "python",
   "pygments_lexer": "ipython3",
   "version": "3.13.2"
  }
 },
 "nbformat": 4,
 "nbformat_minor": 5
}
