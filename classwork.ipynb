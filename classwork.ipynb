{
 "cells": [
  {
   "cell_type": "code",
   "execution_count": 1,
   "id": "2fee4d77",
   "metadata": {},
   "outputs": [],
   "source": [
    "import pandas as pd\n",
    "import numpy as np\n",
    "import matplotlib.pyplot as plt"
   ]
  },
  {
   "cell_type": "code",
   "execution_count": 2,
   "id": "2e677584-35fb-4623-8ad3-2d0bcf1225f9",
   "metadata": {},
   "outputs": [
    {
     "name": "stdout",
     "output_type": "stream",
     "text": [
      "is not a prime number\n"
     ]
    }
   ],
   "source": [
    "def check_prime(n):\n",
    "    if n<=1:\n",
    "        print(\" is not a prime number\")\n",
    "        \n",
    "    else:\n",
    "        for i in range(2,int(n/2)+1):\n",
    "            if n%i==0:\n",
    "                print(\"is not a prime number\")\n",
    "                break\n",
    "            else:\n",
    "                print(\"is a prime number\")\n",
    "                break\n",
    "            \n",
    "check_prime(6)"
   ]
  },
  {
   "cell_type": "code",
   "execution_count": 3,
   "id": "bb07b8d3",
   "metadata": {},
   "outputs": [
    {
     "name": "stdout",
     "output_type": "stream",
     "text": [
      "Area of rectangle is 50\n"
     ]
    }
   ],
   "source": [
    "def area_of_rectangle(length, width):\n",
    "    area = length * width\n",
    "    return area\n",
    "print(\"Area of rectangle is\", area_of_rectangle(5, 10))"
   ]
  },
  {
   "cell_type": "code",
   "execution_count": 4,
   "id": "af1d036c",
   "metadata": {},
   "outputs": [
    {
     "name": "stdout",
     "output_type": "stream",
     "text": [
      "500 is the largest number\n"
     ]
    }
   ],
   "source": [
    "def maximum_of_three(a,b,c):\n",
    "    if a>=b:\n",
    "        if a>c:\n",
    "            print(f\"{a} is the largest number\")\n",
    "            \n",
    "        else:\n",
    "            print(f\"{c} is the largest number\")\n",
    "            \n",
    "    else:\n",
    "        if b>c:\n",
    "            print(f\"{b} is the largest number\")\n",
    "            \n",
    "        else:\n",
    "            print(f\"{c} is the largest number\")\n",
    "            \n",
    "maximum_of_three(500,485,50)"
   ]
  },
  {
   "cell_type": "code",
   "execution_count": 5,
   "id": "d23a39e3",
   "metadata": {},
   "outputs": [
    {
     "name": "stdout",
     "output_type": "stream",
     "text": [
      "!dlroW olleH\n"
     ]
    }
   ],
   "source": [
    "def reverse_string(string):\n",
    "    reversed_string= string[::-1]\n",
    "    return reversed_string\n",
    "\n",
    "print(reverse_string(\"Hello World!\"))"
   ]
  },
  {
   "cell_type": "code",
   "execution_count": 6,
   "id": "ae305f5d",
   "metadata": {},
   "outputs": [
    {
     "name": "stdout",
     "output_type": "stream",
     "text": [
      "7\n"
     ]
    }
   ],
   "source": [
    "def count_vowel(str):\n",
    "    count=0\n",
    "    for char in str:\n",
    "        if char in \"aeiouAEIOU\" :\n",
    "            count+=1\n",
    "            \n",
    "    print(count)\n",
    "            \n",
    "count_vowel(\"I am A disCO DancEr\")"
   ]
  },
  {
   "cell_type": "code",
   "execution_count": 7,
   "id": "22d2ccd5",
   "metadata": {},
   "outputs": [
    {
     "name": "stdout",
     "output_type": "stream",
     "text": [
      "String eee madam eee is pallindrome\n"
     ]
    }
   ],
   "source": [
    "def check_pallindrome(str):\n",
    "    rev_str=str[::-1]\n",
    "    if str==rev_str:\n",
    "        print(f\"String {str} is pallindrome\")\n",
    "        \n",
    "    else:\n",
    "        print(f\"String {str} is not pallindrome\")\n",
    "    \n",
    "check_pallindrome(\"eee madam eee\")"
   ]
  },
  {
   "cell_type": "code",
   "execution_count": 8,
   "id": "88f76bc1",
   "metadata": {},
   "outputs": [
    {
     "name": "stdout",
     "output_type": "stream",
     "text": [
      "sumit\n",
      "john\n"
     ]
    }
   ],
   "source": [
    "name=\"john\"\n",
    "def function():\n",
    "    name= \"sumit\"\n",
    "    print(name)\n",
    "    \n",
    "function()\n",
    "print(name)"
   ]
  },
  {
   "cell_type": "code",
   "execution_count": 9,
   "id": "84e643eb",
   "metadata": {},
   "outputs": [
    {
     "data": {
      "text/plain": [
       "100"
      ]
     },
     "execution_count": 9,
     "metadata": {},
     "output_type": "execute_result"
    }
   ],
   "source": [
    "x=99\n",
    "def func(y):\n",
    "    z=x+y\n",
    "    return z\n",
    "func(1)"
   ]
  },
  {
   "cell_type": "code",
   "execution_count": 10,
   "id": "e4c08dfe",
   "metadata": {},
   "outputs": [
    {
     "name": "stdout",
     "output_type": "stream",
     "text": [
      "Honda\n",
      "Cbz\n"
     ]
    }
   ],
   "source": [
    "class Bike:\n",
    "    def __init__(self,brand,model):\n",
    "        self.brand=brand\n",
    "        self.model=model\n",
    "    \n",
    "myBike= Bike(\"Honda\",\"Cbz\")\n",
    "print(myBike.brand)\n",
    "print(myBike.model)"
   ]
  },
  {
   "cell_type": "code",
   "execution_count": 11,
   "id": "64329642",
   "metadata": {},
   "outputs": [
    {
     "name": "stdout",
     "output_type": "stream",
     "text": [
      "Full name of car is  Hyundai  Creta\n",
      "a\n",
      "4\n"
     ]
    }
   ],
   "source": [
    "class Car:\n",
    "    def __init__(self,brand,model):\n",
    "        self.brand=brand\n",
    "        self.model=model\n",
    "        \n",
    "    def fullname(self):\n",
    "        print(\"Full name of car is \",self.brand,\"\",self.model)\n",
    "        \n",
    "myCar= Car(\"Hyundai\", \"Creta\")\n",
    "myCar.fullname()\n",
    "\n",
    "class ElectricCar(Car):\n",
    "    def __init__(self,size,brand,model):\n",
    "        super().__init__(brand,model)\n",
    "        self.size=size\n",
    "mynew=ElectricCar(4,\"a\",\"b\")\n",
    "print(mynew.brand)\n",
    "print(mynew.size)\n",
    "  "
   ]
  },
  {
   "cell_type": "code",
   "execution_count": 23,
   "id": "c46c7885",
   "metadata": {},
   "outputs": [],
   "source": [
    "class ElectricCar(Car):\n",
    "    def __init__(self, brand, model, size):\n",
    "        super().__init__(brand, model)\n",
    "        self.size = size"
   ]
  },
  {
   "cell_type": "code",
   "execution_count": 13,
   "id": "59d059ec",
   "metadata": {},
   "outputs": [
    {
     "name": "stdout",
     "output_type": "stream",
     "text": [
      "Hyundai\n",
      "Tata\n"
     ]
    }
   ],
   "source": [
    "class Car:\n",
    "    def __init__(self,brand,top_speed,colour):\n",
    "        self.__brand=brand\n",
    "        self.top_speed=top_speed\n",
    "        self.colour=colour\n",
    "        \n",
    "    def get_brand(self):\n",
    "        return self.__brand\n",
    "    def set_brand(self,new_brand):\n",
    "        self.__brand=new_brand\n",
    "    def get_data(self):\n",
    "        print(self.__brand)\n",
    "        print(self.top_speed)\n",
    "        print(self.colour)\n",
    "    \n",
    "       \n",
    "    \n",
    "        \n",
    "myCar= Car(\"Hyundai\",150,\"Red\")\n",
    "# print(myCar.brand)\n",
    "# myCar.get_data()\n",
    "print(myCar.get_brand())\n",
    "myCar.set_brand(\"Tata\")\n",
    "print(myCar.get_brand())"
   ]
  },
  {
   "cell_type": "code",
   "execution_count": 14,
   "id": "78df203d",
   "metadata": {},
   "outputs": [
    {
     "name": "stdout",
     "output_type": "stream",
     "text": [
      "toyota\n",
      "Supra\n",
      "2020\n",
      "Supra engine started.\n",
      "Tesla\n",
      "Model S\n",
      "2021\n",
      "Model S electric engine started.\n",
      "Total cars created: 2\n"
     ]
    }
   ],
   "source": [
    "class Vehicle:\n",
    "    def start_engine(self):\n",
    "        pass\n",
    "    \n",
    "class Car(Vehicle):\n",
    "    total_cars = 0\n",
    "    def __init__(self,brand,model,year):\n",
    "        Car.total_cars += 1\n",
    "        self.brand = brand\n",
    "        self.__model = model\n",
    "        self.year = year\n",
    "        self.is_running = False\n",
    "        \n",
    "    def get_model(self):\n",
    "        return self.__model\n",
    "    \n",
    "    def set_model(self, new_model):\n",
    "        self.__model = new_model\n",
    "        \n",
    "    def start_engine(self):\n",
    "        self.is_running = True\n",
    "        print(f\"{self.__model} engine started.\")\n",
    "        \n",
    "    def get_data(self):\n",
    "        print(self.brand)\n",
    "        print(self.__model)\n",
    "        print(self.year)\n",
    "        \n",
    "class ElectricCar(Car):\n",
    "    # def __init__(self, brand, __model, year, battery_size):\n",
    "    #     super().__init__(brand, __model, year)\n",
    "    #     self.battery_size = battery_size\n",
    "        \n",
    "    def start_engine(self):\n",
    "        self.is_running = True\n",
    "        print(f\"{self.get_model()} electric engine started.\")\n",
    "        \n",
    "myCar = Car(\"toyota\",\"Supra\",2020)\n",
    "myCar.get_data()\n",
    "myCar.start_engine()\n",
    "newCar = ElectricCar(\"Tesla\", \"Model S\", 2021)\n",
    "newCar.get_data()\n",
    "newCar.start_engine()  \n",
    "print(\"Total cars created:\", Car.total_cars)     "
   ]
  },
  {
   "cell_type": "code",
   "execution_count": 15,
   "id": "652d661f",
   "metadata": {},
   "outputs": [],
   "source": [
    "import numpy as np"
   ]
  },
  {
   "cell_type": "code",
   "execution_count": 16,
   "id": "e58c11ae",
   "metadata": {},
   "outputs": [
    {
     "name": "stdout",
     "output_type": "stream",
     "text": [
      "[1 2 3]\n"
     ]
    }
   ],
   "source": [
    "arr_1d=np.array([1,2,3])\n",
    "print(arr_1d)"
   ]
  },
  {
   "cell_type": "code",
   "execution_count": 17,
   "id": "75e24131",
   "metadata": {},
   "outputs": [
    {
     "name": "stdout",
     "output_type": "stream",
     "text": [
      "[[1 2 3]\n",
      " [4 5 6]]\n"
     ]
    }
   ],
   "source": [
    "arr_2d=np.array([[1,2,3],[4,5,6]])\n",
    "print(arr_2d)"
   ]
  },
  {
   "cell_type": "code",
   "execution_count": 18,
   "id": "6f5b3d94",
   "metadata": {},
   "outputs": [
    {
     "name": "stdout",
     "output_type": "stream",
     "text": [
      "[1, 2, 3, 1, 2, 3]\n",
      "[2 4 6]\n"
     ]
    }
   ],
   "source": [
    "lst=[1,2,3]\n",
    "print(lst*2)\n",
    "print(arr_1d*2)"
   ]
  },
  {
   "cell_type": "code",
   "execution_count": 19,
   "id": "85947b33",
   "metadata": {},
   "outputs": [
    {
     "name": "stdout",
     "output_type": "stream",
     "text": [
      "[0. 0. 0.]\n",
      "[[1. 1. 1. 1. 1.]\n",
      " [1. 1. 1. 1. 1.]\n",
      " [1. 1. 1. 1. 1.]]\n",
      "[[1. 0. 0. 0. 0.]\n",
      " [0. 1. 0. 0. 0.]\n",
      " [0. 0. 1. 0. 0.]\n",
      " [0. 0. 0. 1. 0.]\n",
      " [0. 0. 0. 0. 1.]]\n"
     ]
    }
   ],
   "source": [
    "arr1=np.zeros(3)\n",
    "print(arr1)\n",
    "arr2=np.ones((3,5))\n",
    "print(arr2)\n",
    "arr3=np.eye(5)\n",
    "print(arr3)"
   ]
  },
  {
   "cell_type": "code",
   "execution_count": 20,
   "id": "e2ff291f",
   "metadata": {},
   "outputs": [
    {
     "name": "stdout",
     "output_type": "stream",
     "text": [
      "[  0.  40.  80. 120. 160. 200.]\n",
      "[ 0  3  6  9 12 15 18]\n",
      "[[10 10 10]\n",
      " [10 10 10]]\n",
      "[[55.02871596 39.71090271 14.9813025   2.06906383 22.46693338]\n",
      " [ 4.59155562 26.40936091 39.14599716 29.56637635 24.65512683]\n",
      " [64.09956174 13.65316115 46.60144507 44.31622584 95.01983145]\n",
      " [80.43955897  6.34963234 94.26186736 88.28431464 42.89435121]\n",
      " [84.20714626 37.13482218 77.41758311 45.13191751 56.17529514]]\n",
      "[[7 6 5 9 6]\n",
      " [8 5 2 3 5]\n",
      " [0 8 2 6 8]\n",
      " [0 7 0 4 6]\n",
      " [1 9 1 3 8]]\n",
      "[0, 3, 6, 9, 12, 15, 18]\n",
      "[ 0.  3.  6.  9. 12. 15. 18.]\n",
      " eye(N, M=None, k=0, dtype=<class 'float'>, order='C', *, device=None,\n",
      "     like=None)\n",
      "\n",
      "Return a 2-D array with ones on the diagonal and zeros elsewhere.\n",
      "\n",
      "Parameters\n",
      "----------\n",
      "N : int\n",
      "  Number of rows in the output.\n",
      "M : int, optional\n",
      "  Number of columns in the output. If None, defaults to `N`.\n",
      "k : int, optional\n",
      "  Index of the diagonal: 0 (the default) refers to the main diagonal,\n",
      "  a positive value refers to an upper diagonal, and a negative value\n",
      "  to a lower diagonal.\n",
      "dtype : data-type, optional\n",
      "  Data-type of the returned array.\n",
      "order : {'C', 'F'}, optional\n",
      "    Whether the output should be stored in row-major (C-style) or\n",
      "    column-major (Fortran-style) order in memory.\n",
      "device : str, optional\n",
      "    The device on which to place the created array. Default: None.\n",
      "    For Array-API interoperability only, so must be ``\"cpu\"`` if passed.\n",
      "\n",
      "    .. versionadded:: 2.0.0\n",
      "like : array_like, optional\n",
      "        Reference object to allow the creation of arrays which are not\n",
      "        NumPy arrays. If an array-like passed in as ``like`` supports\n",
      "        the ``__array_function__`` protocol, the result will be defined\n",
      "        by it. In this case, it ensures the creation of an array object\n",
      "        compatible with that passed in via this argument.\n",
      "\n",
      "    .. versionadded:: 1.20.0\n",
      "\n",
      "Returns\n",
      "-------\n",
      "I : ndarray of shape (N,M)\n",
      "  An array where all elements are equal to zero, except for the `k`-th\n",
      "  diagonal, whose values are equal to one.\n",
      "\n",
      "See Also\n",
      "--------\n",
      "identity : (almost) equivalent function\n",
      "diag : diagonal 2-D array from a 1-D array specified by the user.\n",
      "\n",
      "Examples\n",
      "--------\n",
      ">>> import numpy as np\n",
      ">>> np.eye(2, dtype=int)\n",
      "array([[1, 0],\n",
      "       [0, 1]])\n",
      ">>> np.eye(3, k=1)\n",
      "array([[0.,  1.,  0.],\n",
      "       [0.,  0.,  1.],\n",
      "       [0.,  0.,  0.]])\n",
      "None\n",
      "7\n",
      "(7,)\n",
      "int64\n"
     ]
    }
   ],
   "source": [
    "lin=np.linspace(0,200,6)\n",
    "print(lin)\n",
    "rng=np.arange(0,21,3)\n",
    "print(rng)\n",
    "arr4=np.full((2,3),10)\n",
    "print(arr4)\n",
    "rnd=np.random.rand(5,5)*100\n",
    "print(rnd)\n",
    "rndint=np.random.randint(11,size=(5,5))\n",
    "print(rndint)\n",
    "\n",
    "print(rng.tolist())\n",
    "print(rng.astype(dtype=float))\n",
    "print(np.info(np.eye))\n",
    "print(rng.size)\n",
    "print(rng.shape)\n",
    "print(rng.dtype)"
   ]
  },
  {
   "cell_type": "code",
   "execution_count": 21,
   "id": "7774b156",
   "metadata": {},
   "outputs": [
    {
     "name": "stdout",
     "output_type": "stream",
     "text": [
      "[4.94e-323 9.88e-323 1.48e-322 2.47e-322 1.98e-322]\n",
      "[10 20 30 40 50]\n",
      "[[10 20 30]\n",
      " [40 55 89]]\n",
      "[[10 20 30 40 55]\n",
      " [89  0  0  0  0]\n",
      " [ 0  0  0  0  0]\n",
      " [ 0  0  0  0  0]\n",
      " [ 0  0  0  0  0]\n",
      " [ 0  0  0  0  0]]\n"
     ]
    }
   ],
   "source": [
    "arr6=np.array([10,20,30,50,40])\n",
    "np.copy(arr6)\n",
    "print(arr6.view(dtype=float))\n",
    "arr6.sort()\n",
    "print(arr6)\n",
    "\n",
    "arr7=np.array([[10,30,20],[55,40,89]])\n",
    "arr7.sort(axis=1)\n",
    "print(arr7)\n",
    "\n",
    "# print(arr7.flatten())\n",
    "\n",
    "# print(arr7.T)\n",
    "# print(arr7)\n",
    "\n",
    "# arr7.reshape(2,3)\n",
    "arr7.resize(6,5)\n",
    "print(arr7)"
   ]
  },
  {
   "cell_type": "code",
   "execution_count": 28,
   "id": "7e1bdbd4",
   "metadata": {},
   "outputs": [
    {
     "name": "stdout",
     "output_type": "stream",
     "text": [
      "[ 10  20  30  40  50 100]\n",
      "[ 10  20  30  40  50 100]\n",
      "[[1 2 3]\n",
      " [4 5 6]\n",
      " [7 8 9]]\n",
      "[[1 2]\n",
      " [4 5]\n",
      " [7 8]]\n",
      "[[ 10  20  30  40  50]\n",
      " [ 60  70  80  90 100]]\n",
      "None\n"
     ]
    }
   ],
   "source": [
    "import numpy as np\n",
    "arr7=np.array([10,20,30,40,50])\n",
    "arr7=np.append(arr7,100)\n",
    "print(arr7)\n",
    "\n",
    "# arr7=np.insert(arr7,2,25)\n",
    "print(arr7)\n",
    "\n",
    "arr8=np.array([[1,2,3],[4,5,6],[7,8,9]])\n",
    "print(arr8)\n",
    "\n",
    "arr8=np.delete(arr8,2,axis=1)\n",
    "print(arr8)\n",
    "\n",
    "\n",
    "arr9=np.array([[10,20,30,40,50],[60,70,80,90,100]])\n",
    "# print(arr9[0,1])\n",
    "\n",
    "# arr9[0,1]=40\n",
    "# print(arr9[0,1])\n",
    "\n",
    "# arr9[:1]\n",
    "\n",
    "# arr7=np.split(arr7,2)\n",
    "# print(arr7)\n",
    "np.hsplit(arr9,1)\n",
    "print(arr9)\n",
    "\n",
    "arr10=np.array([1,2,3,4,5,6,7,8,9])\n",
    "arr11=np.array([10,20,30,40,50,60,70,80,90])\n",
    "# np.add(arr10,arr11)\n",
    "# np.subtract(arr10,arr11)\n",
    "# np.multiply(arr10,arr11)\n",
    "# np.divide(arr10,arr11)\n",
    "# np.power(arr10,10)\n",
    "# np.sqrt(arr10)\n",
    "# np.sin(arr10)\n",
    "# np.log(arr10)\n",
    "# np.abs(arr10)\n",
    "# np.ceil(arr10)\n",
    "# np.round(arr10)\n",
    "# np.mean(arr10)\n",
    "# arr10.sum()\n",
    "# arr10.min()\n",
    "# arr10.max()\n",
    "# np.var(arr10)\n",
    "# np.std(arr10)\n",
    "# np.corrcoef(arr10)\n",
    "arr12=(np.random.seed(42))\n",
    "print(arr12)\n",
    "\n"
   ]
  },
  {
   "cell_type": "code",
   "execution_count": 40,
   "id": "d9a49c7e",
   "metadata": {},
   "outputs": [
    {
     "name": "stdout",
     "output_type": "stream",
     "text": [
      "[[1. 2. 3.]\n",
      " [4. 5. 6.]]\n"
     ]
    }
   ],
   "source": [
    "arr=np.array([[1, 2, 3], [4, 5, 6]], dtype=np.int64)\n",
    "# arr.shape\n",
    "# arr.size\n",
    "# arr.dtype\n",
    "# arr.ndim\n",
    "# arr.itemsize\n",
    "print(arr.astype(float))"
   ]
  },
  {
   "cell_type": "code",
   "execution_count": 49,
   "id": "67ecc8f7",
   "metadata": {},
   "outputs": [
    {
     "name": "stdout",
     "output_type": "stream",
     "text": [
      "[[2 6]\n",
      " [3 7]\n",
      " [4 8]]\n",
      "14\n",
      "<class 'float'>\n",
      "<class 'str'>\n",
      "['a', 'b', 'c']\n"
     ]
    }
   ],
   "source": [
    "arr=np.array([[1,4], [2,5], [3,6]])\n",
    "arr2=np.array([1,2])\n",
    "print(arr+arr2)\n",
    "\n",
    "\n",
    "\n",
    "print(4+5*2)\n",
    "print(type(7.5))\n",
    "print((type(\"Hello\")))\n",
    "print(list(\"abc\"))"
   ]
  },
  {
   "cell_type": "code",
   "execution_count": 66,
   "id": "60b62af7",
   "metadata": {},
   "outputs": [
    {
     "data": {
      "text/plain": [
       "0                      1\n",
       "1                1048576\n",
       "2        205891132094649\n",
       "3                      0\n",
       "4   -6776596920136667815\n",
       "dtype: int64"
      ]
     },
     "execution_count": 66,
     "metadata": {},
     "output_type": "execute_result"
    }
   ],
   "source": [
    "# s1=pd.Series([1,2,3,4,5])\n",
    "# s1\n",
    "\n",
    "arr=np.array([1,2,3,4,5])\n",
    "s2=pd.Series([10,20,30,40,50])\n",
    "s1=pd.Series(arr)\n",
    "s2\n",
    "s1.pow(s2)\n"
   ]
  },
  {
   "cell_type": "code",
   "execution_count": 11,
   "id": "853cc3f6",
   "metadata": {},
   "outputs": [
    {
     "data": {
      "text/plain": [
       "0    20\n",
       "2    25\n",
       "4    30\n",
       "6    35\n",
       "8    40\n",
       "dtype: int64"
      ]
     },
     "execution_count": 11,
     "metadata": {},
     "output_type": "execute_result"
    }
   ],
   "source": [
    "age=pd.Series(np.array([20,25,30,35,40]),\n",
    "    np.arange(0,10,2))\n",
    "age"
   ]
  },
  {
   "cell_type": "code",
   "execution_count": null,
   "id": "baff16af",
   "metadata": {},
   "outputs": [
    {
     "name": "stdout",
     "output_type": "stream",
     "text": [
      "a    20\n",
      "b    21\n",
      "c    22\n",
      "d    23\n",
      "e    24\n",
      "dtype: int64\n"
     ]
    }
   ],
   "source": [
    "mark = pd.Series([20, 21, 22, 23, 24], index=['a', 'b', 'c', 'd', 'e']) \n",
    "print(mark)\n",
    "\n"
   ]
  },
  {
   "cell_type": "code",
   "execution_count": 12,
   "id": "93192193",
   "metadata": {},
   "outputs": [
    {
     "data": {
      "text/plain": [
       "rent          2500\n",
       "grocery       3000\n",
       "travelling    2000\n",
       "insurance     5000\n",
       "dtype: int64"
      ]
     },
     "execution_count": 12,
     "metadata": {},
     "output_type": "execute_result"
    }
   ],
   "source": [
    "expense_dict={'rent':2500,'grocery':3000,'travelling':2000,'insurance':5000}\n",
    "expense_series=pd.Series(expense_dict)\n",
    "expense_series"
   ]
  },
  {
   "cell_type": "code",
   "execution_count": 62,
   "id": "63880d85",
   "metadata": {},
   "outputs": [
    {
     "name": "stdout",
     "output_type": "stream",
     "text": [
      "\n",
      " A    [Maths, Science, English]\n",
      "B             [Maths, Physics]\n",
      "dtype: object\n"
     ]
    }
   ],
   "source": [
    "classes_dict={\n",
    "    \"A\":[\"Maths\",\"Science\",\"English\"],\n",
    "    \"B\":[\"Maths\",\"Physics\"],\n",
    "    \"C\":\"Chemistry\"\n",
    "}\n",
    "\n",
    "classes_series=pd.Series(classes_dict)\n",
    "classes_series\n",
    "\n",
    "# classes_series.index\n",
    "# classes_series.values\n",
    "\n",
    "print(\"\\n\",classes_series[['A','B']])"
   ]
  },
  {
   "cell_type": "code",
   "execution_count": 54,
   "id": "a59ea214",
   "metadata": {},
   "outputs": [
    {
     "data": {
      "text/plain": [
       "0    Ram\n",
       "dtype: object"
      ]
     },
     "execution_count": 54,
     "metadata": {},
     "output_type": "execute_result"
    }
   ],
   "source": [
    "std_data= np.array(['Ram','Sita','Laxmi','Krishna'])\n",
    "std_series=pd.Series(std_data)\n",
    "std_series\n",
    "std_series[:-3]"
   ]
  },
  {
   "cell_type": "code",
   "execution_count": 63,
   "id": "dbc00613",
   "metadata": {},
   "outputs": [
    {
     "data": {
      "text/plain": [
       "Laxmi     540\n",
       "Madhab    502\n",
       "dtype: int64"
      ]
     },
     "execution_count": 63,
     "metadata": {},
     "output_type": "execute_result"
    }
   ],
   "source": [
    "student_series=pd.Series(\n",
    "    np.array([457,456,540,348,502,480]),\n",
    "    index=['Ram','Sita','Laxmi','Krishna','Madhab','Arjun']\n",
    ")\n",
    "\n",
    "student_series[student_series>500]"
   ]
  },
  {
   "cell_type": "code",
   "execution_count": 67,
   "id": "7c0fd64c",
   "metadata": {},
   "outputs": [
    {
     "data": {
      "text/plain": [
       "0     400\n",
       "1    1180\n",
       "2     800\n",
       "3    1100\n",
       "dtype: int64"
      ]
     },
     "execution_count": 67,
     "metadata": {},
     "output_type": "execute_result"
    }
   ],
   "source": [
    "sales=pd.Series([200,590,400,550])\n",
    "sales*2"
   ]
  },
  {
   "cell_type": "code",
   "execution_count": 72,
   "id": "95be17d1",
   "metadata": {},
   "outputs": [
    {
     "data": {
      "text/plain": [
       "a    4.0\n",
       "b    2.0\n",
       "c    3.0\n",
       "d    5.0\n",
       "e    1.0\n",
       "dtype: float64"
      ]
     },
     "execution_count": 72,
     "metadata": {},
     "output_type": "execute_result"
    }
   ],
   "source": [
    "scores=pd.Series([88,50,75,90,20],\n",
    "                 index=['a','b','c','d','e'])\n",
    "studentrank=scores.rank()\n",
    "studentrank"
   ]
  },
  {
   "cell_type": "code",
   "execution_count": 75,
   "id": "fc5373db",
   "metadata": {},
   "outputs": [
    {
     "data": {
      "text/plain": [
       "may    560.0\n",
       "jan    250.0\n",
       "mar    140.0\n",
       "feb      NaN\n",
       "apr      NaN\n",
       "dtype: float64"
      ]
     },
     "execution_count": 75,
     "metadata": {},
     "output_type": "execute_result"
    }
   ],
   "source": [
    "salesdata=pd.Series([250,np.nan,140,np.nan,560],\n",
    "                    index=['jan','feb','mar','apr','may'])\n",
    "sorted_salesdata=salesdata.sort_values(ascending=False, na_position='last')\n",
    "sorted_salesdata"
   ]
  },
  {
   "cell_type": "code",
   "execution_count": 4,
   "id": "6dba7e2b",
   "metadata": {},
   "outputs": [
    {
     "data": {
      "text/plain": [
       "7    False\n",
       "4     True\n",
       "3    False\n",
       "2    False\n",
       "8     True\n",
       "9    False\n",
       "dtype: bool"
      ]
     },
     "execution_count": 4,
     "metadata": {},
     "output_type": "execute_result"
    }
   ],
   "source": [
    "salesdata=pd.Series(\n",
    "    [250,np.nan,175,300,np.nan,220],\n",
    "    index=[7,4,3,2,8,9]\n",
    ")\n",
    "\n",
    "salesdata.isnull()"
   ]
  },
  {
   "cell_type": "code",
   "execution_count": 13,
   "id": "f3315e82",
   "metadata": {},
   "outputs": [
    {
     "data": {
      "text/plain": [
       "0      0.0\n",
       "1     75.0\n",
       "2    150.0\n",
       "3    225.0\n",
       "4    300.0\n",
       "0      0.0\n",
       "1    100.0\n",
       "2    200.0\n",
       "3    300.0\n",
       "4    400.0\n",
       "dtype: float64"
      ]
     },
     "execution_count": 13,
     "metadata": {},
     "output_type": "execute_result"
    }
   ],
   "source": [
    "week1_sales=np.linspace(start=0,stop=300,num=5)\n",
    "week2_sales=np.linspace(start=0,stop=400,num=5)\n",
    "\n",
    "week1_sales_series=pd.Series(data=week1_sales)\n",
    "week2_sales_series=pd.Series(data=week2_sales)\n",
    "\n",
    "# week1_sales_series\n",
    "# week2_sales_series\n",
    "\n",
    "pd.concat([week1_sales_series,week2_sales_series])\n",
    "# week1_sales_series.append(week2_sales_series) # this is removed and updated\n"
   ]
  },
  {
   "cell_type": "code",
   "execution_count": 16,
   "id": "0d2cb744",
   "metadata": {},
   "outputs": [
    {
     "data": {
      "text/html": [
       "<div>\n",
       "<style scoped>\n",
       "    .dataframe tbody tr th:only-of-type {\n",
       "        vertical-align: middle;\n",
       "    }\n",
       "\n",
       "    .dataframe tbody tr th {\n",
       "        vertical-align: top;\n",
       "    }\n",
       "\n",
       "    .dataframe thead th {\n",
       "        text-align: right;\n",
       "    }\n",
       "</style>\n",
       "<table border=\"1\" class=\"dataframe\">\n",
       "  <thead>\n",
       "    <tr style=\"text-align: right;\">\n",
       "      <th></th>\n",
       "      <th>0</th>\n",
       "    </tr>\n",
       "  </thead>\n",
       "  <tbody>\n",
       "    <tr>\n",
       "      <th>0</th>\n",
       "      <td>Python</td>\n",
       "    </tr>\n",
       "    <tr>\n",
       "      <th>1</th>\n",
       "      <td>Numpy</td>\n",
       "    </tr>\n",
       "    <tr>\n",
       "      <th>2</th>\n",
       "      <td>Pandas</td>\n",
       "    </tr>\n",
       "    <tr>\n",
       "      <th>3</th>\n",
       "      <td>Matplotlib</td>\n",
       "    </tr>\n",
       "    <tr>\n",
       "      <th>4</th>\n",
       "      <td>ML Algorithms</td>\n",
       "    </tr>\n",
       "    <tr>\n",
       "      <th>5</th>\n",
       "      <td>Statistics</td>\n",
       "    </tr>\n",
       "  </tbody>\n",
       "</table>\n",
       "</div>"
      ],
      "text/plain": [
       "               0\n",
       "0         Python\n",
       "1          Numpy\n",
       "2         Pandas\n",
       "3     Matplotlib\n",
       "4  ML Algorithms\n",
       "5     Statistics"
      ]
     },
     "execution_count": 16,
     "metadata": {},
     "output_type": "execute_result"
    }
   ],
   "source": [
    "ml=['Python','Numpy','Pandas','Matplotlib','ML Algorithms','Statistics']\n",
    "df=pd.DataFrame(ml)\n",
    "df"
   ]
  },
  {
   "cell_type": "code",
   "execution_count": null,
   "id": "31fd8883",
   "metadata": {},
   "outputs": [
    {
     "data": {
      "text/html": [
       "<div>\n",
       "<style scoped>\n",
       "    .dataframe tbody tr th:only-of-type {\n",
       "        vertical-align: middle;\n",
       "    }\n",
       "\n",
       "    .dataframe tbody tr th {\n",
       "        vertical-align: top;\n",
       "    }\n",
       "\n",
       "    .dataframe thead th {\n",
       "        text-align: right;\n",
       "    }\n",
       "</style>\n",
       "<table border=\"1\" class=\"dataframe\">\n",
       "  <thead>\n",
       "    <tr style=\"text-align: right;\">\n",
       "      <th></th>\n",
       "      <th>Course</th>\n",
       "      <th>Fee</th>\n",
       "    </tr>\n",
       "  </thead>\n",
       "  <tbody>\n",
       "    <tr>\n",
       "      <th>0</th>\n",
       "      <td>ML Foundation</td>\n",
       "      <td>8000</td>\n",
       "    </tr>\n",
       "    <tr>\n",
       "      <th>1</th>\n",
       "      <td>IOT</td>\n",
       "      <td>5000</td>\n",
       "    </tr>\n",
       "    <tr>\n",
       "      <th>2</th>\n",
       "      <td>Web Developement</td>\n",
       "      <td>6500</td>\n",
       "    </tr>\n",
       "  </tbody>\n",
       "</table>\n",
       "</div>"
      ],
      "text/plain": [
       "             Course   Fee\n",
       "0     ML Foundation  8000\n",
       "1               IOT  5000\n",
       "2  Web Developement  6500"
      ]
     },
     "execution_count": 17,
     "metadata": {},
     "output_type": "execute_result"
    }
   ],
   "source": [
    "# Dataframe from list of list\n",
    "\n",
    "courses_list=[['ML Foundation',8000],['IOT',5000],['Web Developement',6500]]\n",
    "df=pd.DataFrame(courses_list,columns=['Course','Fee'])\n",
    "df"
   ]
  },
  {
   "cell_type": "code",
   "execution_count": 18,
   "id": "0d7d5654",
   "metadata": {},
   "outputs": [
    {
     "data": {
      "text/html": [
       "<div>\n",
       "<style scoped>\n",
       "    .dataframe tbody tr th:only-of-type {\n",
       "        vertical-align: middle;\n",
       "    }\n",
       "\n",
       "    .dataframe tbody tr th {\n",
       "        vertical-align: top;\n",
       "    }\n",
       "\n",
       "    .dataframe thead th {\n",
       "        text-align: right;\n",
       "    }\n",
       "</style>\n",
       "<table border=\"1\" class=\"dataframe\">\n",
       "  <thead>\n",
       "    <tr style=\"text-align: right;\">\n",
       "      <th></th>\n",
       "      <th>Name</th>\n",
       "      <th>Age</th>\n",
       "      <th>City</th>\n",
       "    </tr>\n",
       "  </thead>\n",
       "  <tbody>\n",
       "    <tr>\n",
       "      <th>0</th>\n",
       "      <td>Alice</td>\n",
       "      <td>25</td>\n",
       "      <td>New York</td>\n",
       "    </tr>\n",
       "    <tr>\n",
       "      <th>1</th>\n",
       "      <td>Bob</td>\n",
       "      <td>35</td>\n",
       "      <td>London</td>\n",
       "    </tr>\n",
       "    <tr>\n",
       "      <th>2</th>\n",
       "      <td>Charlie</td>\n",
       "      <td>60</td>\n",
       "      <td>Chicago</td>\n",
       "    </tr>\n",
       "  </tbody>\n",
       "</table>\n",
       "</div>"
      ],
      "text/plain": [
       "      Name  Age      City\n",
       "0    Alice   25  New York\n",
       "1      Bob   35    London\n",
       "2  Charlie   60   Chicago"
      ]
     },
     "execution_count": 18,
     "metadata": {},
     "output_type": "execute_result"
    }
   ],
   "source": [
    "# Dataframe from a dictionary\n",
    "\n",
    "data={\n",
    "    'Name':['Alice','Bob','Charlie'],\n",
    "    'Age':[25,35,60],\n",
    "    'City':['New York','London','Chicago']\n",
    "}\n",
    "df=pd.DataFrame(data)\n",
    "df"
   ]
  },
  {
   "cell_type": "code",
   "execution_count": null,
   "id": "27b39238",
   "metadata": {},
   "outputs": [
    {
     "data": {
      "text/plain": [
       "Index(['Namee', 'Agee', 'Cityy'], dtype='object')"
      ]
     },
     "execution_count": 74,
     "metadata": {},
     "output_type": "execute_result"
    }
   ],
   "source": [
    "# Dataframe with index from a dictionary\n",
    "\n",
    "data={\n",
    "    'Name':['Alice','Bob','Charlie'],\n",
    "    'Age':[25,35,60],\n",
    "    'City':['New York','London','Chicago']\n",
    "}\n",
    "df=pd.DataFrame(data,index=['A1','A2','A3'])\n",
    "df.columns=[\"Namee\",\"Agee\",\"Cityy\"] # Custom column\n",
    "df\n",
    "\n",
    "type(df)\n",
    "df[['Namee','Agee']] #accesing multiple columns of the dataframe\n",
    "\n",
    "df[\"Agee\"].max()\n",
    "df['Agee'].mean()\n",
    "df.index\n",
    "df.columns\n",
    "df.set_index(\"Agee\",inplace=True)\n",
    "df.columns"
   ]
  },
  {
   "cell_type": "code",
   "execution_count": 21,
   "id": "d2841874",
   "metadata": {},
   "outputs": [
    {
     "data": {
      "text/html": [
       "<div>\n",
       "<style scoped>\n",
       "    .dataframe tbody tr th:only-of-type {\n",
       "        vertical-align: middle;\n",
       "    }\n",
       "\n",
       "    .dataframe tbody tr th {\n",
       "        vertical-align: top;\n",
       "    }\n",
       "\n",
       "    .dataframe thead th {\n",
       "        text-align: right;\n",
       "    }\n",
       "</style>\n",
       "<table border=\"1\" class=\"dataframe\">\n",
       "  <thead>\n",
       "    <tr style=\"text-align: right;\">\n",
       "      <th></th>\n",
       "      <th>Date</th>\n",
       "      <th>Product</th>\n",
       "      <th>Units_sold</th>\n",
       "      <th>Revenue</th>\n",
       "    </tr>\n",
       "  </thead>\n",
       "  <tbody>\n",
       "    <tr>\n",
       "      <th>0</th>\n",
       "      <td>2025-06-01</td>\n",
       "      <td>Laptop</td>\n",
       "      <td>5</td>\n",
       "      <td>50000</td>\n",
       "    </tr>\n",
       "    <tr>\n",
       "      <th>1</th>\n",
       "      <td>2025-06-01</td>\n",
       "      <td>Mouse</td>\n",
       "      <td>25</td>\n",
       "      <td>2500</td>\n",
       "    </tr>\n",
       "    <tr>\n",
       "      <th>2</th>\n",
       "      <td>2025-06-02</td>\n",
       "      <td>Keyboard</td>\n",
       "      <td>15</td>\n",
       "      <td>7500</td>\n",
       "    </tr>\n",
       "    <tr>\n",
       "      <th>3</th>\n",
       "      <td>2025-06-02</td>\n",
       "      <td>Monitor</td>\n",
       "      <td>7</td>\n",
       "      <td>21000</td>\n",
       "    </tr>\n",
       "  </tbody>\n",
       "</table>\n",
       "</div>"
      ],
      "text/plain": [
       "         Date   Product  Units_sold  Revenue\n",
       "0  2025-06-01    Laptop           5    50000\n",
       "1  2025-06-01     Mouse          25     2500\n",
       "2  2025-06-02  Keyboard          15     7500\n",
       "3  2025-06-02   Monitor           7    21000"
      ]
     },
     "execution_count": 21,
     "metadata": {},
     "output_type": "execute_result"
    }
   ],
   "source": [
    "# Dataframe from a list of dictionaries\n",
    "\n",
    "sales_data=[\n",
    "    {'Date':'2025-06-01', 'Product':'Laptop', 'Units_sold':5, 'Revenue':50000},\n",
    "    {'Date':'2025-06-01', 'Product':'Mouse', 'Units_sold':25, 'Revenue':2500},\n",
    "    {'Date':'2025-06-02', 'Product':'Keyboard', 'Units_sold':15, 'Revenue':7500},\n",
    "    {'Date':'2025-06-02', 'Product':'Monitor', 'Units_sold':7, 'Revenue':21000}\n",
    "]\n",
    "df=pd.DataFrame(sales_data)\n",
    "df"
   ]
  },
  {
   "cell_type": "code",
   "execution_count": 31,
   "id": "97931469",
   "metadata": {},
   "outputs": [
    {
     "data": {
      "text/html": [
       "<div>\n",
       "<style scoped>\n",
       "    .dataframe tbody tr th:only-of-type {\n",
       "        vertical-align: middle;\n",
       "    }\n",
       "\n",
       "    .dataframe tbody tr th {\n",
       "        vertical-align: top;\n",
       "    }\n",
       "\n",
       "    .dataframe thead th {\n",
       "        text-align: right;\n",
       "    }\n",
       "</style>\n",
       "<table border=\"1\" class=\"dataframe\">\n",
       "  <thead>\n",
       "    <tr style=\"text-align: right;\">\n",
       "      <th></th>\n",
       "      <th>Name</th>\n",
       "      <th>Age</th>\n",
       "      <th>City</th>\n",
       "      <th>Pincode</th>\n",
       "    </tr>\n",
       "  </thead>\n",
       "  <tbody>\n",
       "    <tr>\n",
       "      <th>First</th>\n",
       "      <td>Tony</td>\n",
       "      <td>23</td>\n",
       "      <td>USA</td>\n",
       "      <td>5453</td>\n",
       "    </tr>\n",
       "    <tr>\n",
       "      <th>Second</th>\n",
       "      <td>Thor</td>\n",
       "      <td>25</td>\n",
       "      <td>Asgard</td>\n",
       "      <td>4323</td>\n",
       "    </tr>\n",
       "    <tr>\n",
       "      <th>Third</th>\n",
       "      <td>Natasha</td>\n",
       "      <td>19</td>\n",
       "      <td>USA</td>\n",
       "      <td>4236</td>\n",
       "    </tr>\n",
       "    <tr>\n",
       "      <th>Forth</th>\n",
       "      <td>Bruce</td>\n",
       "      <td>30</td>\n",
       "      <td>USA</td>\n",
       "      <td>4565</td>\n",
       "    </tr>\n",
       "    <tr>\n",
       "      <th>Fifth</th>\n",
       "      <td>Tchala</td>\n",
       "      <td>28</td>\n",
       "      <td>Wakanda</td>\n",
       "      <td>7897</td>\n",
       "    </tr>\n",
       "    <tr>\n",
       "      <th>Sixth</th>\n",
       "      <td>Naruto</td>\n",
       "      <td>26</td>\n",
       "      <td>Hidden Leaf</td>\n",
       "      <td>6775</td>\n",
       "    </tr>\n",
       "    <tr>\n",
       "      <th>Seventh</th>\n",
       "      <td>Goku</td>\n",
       "      <td>18</td>\n",
       "      <td>Mount Paozu</td>\n",
       "      <td>2767</td>\n",
       "    </tr>\n",
       "    <tr>\n",
       "      <th>Eighth</th>\n",
       "      <td>Saitama</td>\n",
       "      <td>22</td>\n",
       "      <td>Japan</td>\n",
       "      <td>3456</td>\n",
       "    </tr>\n",
       "  </tbody>\n",
       "</table>\n",
       "</div>"
      ],
      "text/plain": [
       "            Name  Age         City  Pincode\n",
       "First       Tony   23          USA     5453\n",
       "Second      Thor   25       Asgard     4323\n",
       "Third    Natasha   19          USA     4236\n",
       "Forth      Bruce   30          USA     4565\n",
       "Fifth     Tchala   28      Wakanda     7897\n",
       "Sixth     Naruto   26  Hidden Leaf     6775\n",
       "Seventh     Goku   18  Mount Paozu     2767\n",
       "Eighth   Saitama   22        Japan     3456"
      ]
     },
     "execution_count": 31,
     "metadata": {},
     "output_type": "execute_result"
    }
   ],
   "source": [
    "# Reading from excel\n",
    "\n",
    "df=pd.read_excel('excel_for_pandas.xlsx',sheet_name='Sheet1') # Load the excel file\n",
    "df.index=['First','Second','Third','Forth','Fifth','Sixth','Seventh','Eighth']#cusom index\n",
    "df\n",
    "df"
   ]
  },
  {
   "cell_type": "code",
   "execution_count": 24,
   "id": "0860075f",
   "metadata": {},
   "outputs": [
    {
     "data": {
      "text/html": [
       "<div>\n",
       "<style scoped>\n",
       "    .dataframe tbody tr th:only-of-type {\n",
       "        vertical-align: middle;\n",
       "    }\n",
       "\n",
       "    .dataframe tbody tr th {\n",
       "        vertical-align: top;\n",
       "    }\n",
       "\n",
       "    .dataframe thead th {\n",
       "        text-align: right;\n",
       "    }\n",
       "</style>\n",
       "<table border=\"1\" class=\"dataframe\">\n",
       "  <thead>\n",
       "    <tr style=\"text-align: right;\">\n",
       "      <th></th>\n",
       "      <th>ID</th>\n",
       "      <th>Age</th>\n",
       "      <th>Gender</th>\n",
       "      <th>Height</th>\n",
       "      <th>Weight</th>\n",
       "      <th>BMI</th>\n",
       "      <th>Label</th>\n",
       "    </tr>\n",
       "  </thead>\n",
       "  <tbody>\n",
       "    <tr>\n",
       "      <th>0</th>\n",
       "      <td>1</td>\n",
       "      <td>25</td>\n",
       "      <td>Male</td>\n",
       "      <td>175</td>\n",
       "      <td>80</td>\n",
       "      <td>25.3</td>\n",
       "      <td>Normal Weight</td>\n",
       "    </tr>\n",
       "    <tr>\n",
       "      <th>1</th>\n",
       "      <td>2</td>\n",
       "      <td>30</td>\n",
       "      <td>Female</td>\n",
       "      <td>160</td>\n",
       "      <td>60</td>\n",
       "      <td>22.5</td>\n",
       "      <td>Normal Weight</td>\n",
       "    </tr>\n",
       "    <tr>\n",
       "      <th>2</th>\n",
       "      <td>3</td>\n",
       "      <td>35</td>\n",
       "      <td>Male</td>\n",
       "      <td>180</td>\n",
       "      <td>90</td>\n",
       "      <td>27.3</td>\n",
       "      <td>Overweight</td>\n",
       "    </tr>\n",
       "    <tr>\n",
       "      <th>3</th>\n",
       "      <td>4</td>\n",
       "      <td>40</td>\n",
       "      <td>Female</td>\n",
       "      <td>150</td>\n",
       "      <td>50</td>\n",
       "      <td>20.0</td>\n",
       "      <td>Underweight</td>\n",
       "    </tr>\n",
       "    <tr>\n",
       "      <th>4</th>\n",
       "      <td>5</td>\n",
       "      <td>45</td>\n",
       "      <td>Male</td>\n",
       "      <td>190</td>\n",
       "      <td>100</td>\n",
       "      <td>31.2</td>\n",
       "      <td>Obese</td>\n",
       "    </tr>\n",
       "    <tr>\n",
       "      <th>...</th>\n",
       "      <td>...</td>\n",
       "      <td>...</td>\n",
       "      <td>...</td>\n",
       "      <td>...</td>\n",
       "      <td>...</td>\n",
       "      <td>...</td>\n",
       "      <td>...</td>\n",
       "    </tr>\n",
       "    <tr>\n",
       "      <th>103</th>\n",
       "      <td>106</td>\n",
       "      <td>11</td>\n",
       "      <td>Male</td>\n",
       "      <td>175</td>\n",
       "      <td>10</td>\n",
       "      <td>3.9</td>\n",
       "      <td>Underweight</td>\n",
       "    </tr>\n",
       "    <tr>\n",
       "      <th>104</th>\n",
       "      <td>107</td>\n",
       "      <td>16</td>\n",
       "      <td>Female</td>\n",
       "      <td>160</td>\n",
       "      <td>10</td>\n",
       "      <td>3.9</td>\n",
       "      <td>Underweight</td>\n",
       "    </tr>\n",
       "    <tr>\n",
       "      <th>105</th>\n",
       "      <td>108</td>\n",
       "      <td>21</td>\n",
       "      <td>Male</td>\n",
       "      <td>180</td>\n",
       "      <td>15</td>\n",
       "      <td>5.6</td>\n",
       "      <td>Underweight</td>\n",
       "    </tr>\n",
       "    <tr>\n",
       "      <th>106</th>\n",
       "      <td>109</td>\n",
       "      <td>26</td>\n",
       "      <td>Female</td>\n",
       "      <td>150</td>\n",
       "      <td>15</td>\n",
       "      <td>5.6</td>\n",
       "      <td>Underweight</td>\n",
       "    </tr>\n",
       "    <tr>\n",
       "      <th>107</th>\n",
       "      <td>110</td>\n",
       "      <td>31</td>\n",
       "      <td>Male</td>\n",
       "      <td>190</td>\n",
       "      <td>20</td>\n",
       "      <td>8.3</td>\n",
       "      <td>Underweight</td>\n",
       "    </tr>\n",
       "  </tbody>\n",
       "</table>\n",
       "<p>108 rows × 7 columns</p>\n",
       "</div>"
      ],
      "text/plain": [
       "      ID  Age  Gender  Height  Weight   BMI          Label\n",
       "0      1   25    Male     175      80  25.3  Normal Weight\n",
       "1      2   30  Female     160      60  22.5  Normal Weight\n",
       "2      3   35    Male     180      90  27.3     Overweight\n",
       "3      4   40  Female     150      50  20.0    Underweight\n",
       "4      5   45    Male     190     100  31.2          Obese\n",
       "..   ...  ...     ...     ...     ...   ...            ...\n",
       "103  106   11    Male     175      10   3.9    Underweight\n",
       "104  107   16  Female     160      10   3.9    Underweight\n",
       "105  108   21    Male     180      15   5.6    Underweight\n",
       "106  109   26  Female     150      15   5.6    Underweight\n",
       "107  110   31    Male     190      20   8.3    Underweight\n",
       "\n",
       "[108 rows x 7 columns]"
      ]
     },
     "execution_count": 24,
     "metadata": {},
     "output_type": "execute_result"
    }
   ],
   "source": [
    "# Reading from csv\n",
    "\n",
    "df=pd.read_csv('Obesity_Classification.csv') # Load the csv file\n",
    "df"
   ]
  },
  {
   "cell_type": "code",
   "execution_count": 43,
   "id": "5a000ee7",
   "metadata": {},
   "outputs": [
    {
     "data": {
      "text/html": [
       "<div>\n",
       "<style scoped>\n",
       "    .dataframe tbody tr th:only-of-type {\n",
       "        vertical-align: middle;\n",
       "    }\n",
       "\n",
       "    .dataframe tbody tr th {\n",
       "        vertical-align: top;\n",
       "    }\n",
       "\n",
       "    .dataframe thead th {\n",
       "        text-align: right;\n",
       "    }\n",
       "</style>\n",
       "<table border=\"1\" class=\"dataframe\">\n",
       "  <thead>\n",
       "    <tr style=\"text-align: right;\">\n",
       "      <th></th>\n",
       "      <th>sepalLength</th>\n",
       "      <th>sepalWidth</th>\n",
       "      <th>petalLength</th>\n",
       "      <th>petalWidth</th>\n",
       "    </tr>\n",
       "  </thead>\n",
       "  <tbody>\n",
       "    <tr>\n",
       "      <th>count</th>\n",
       "      <td>150.000000</td>\n",
       "      <td>150.000000</td>\n",
       "      <td>150.000000</td>\n",
       "      <td>150.000000</td>\n",
       "    </tr>\n",
       "    <tr>\n",
       "      <th>mean</th>\n",
       "      <td>5.843333</td>\n",
       "      <td>3.057333</td>\n",
       "      <td>3.758000</td>\n",
       "      <td>1.199333</td>\n",
       "    </tr>\n",
       "    <tr>\n",
       "      <th>std</th>\n",
       "      <td>0.828066</td>\n",
       "      <td>0.435866</td>\n",
       "      <td>1.765298</td>\n",
       "      <td>0.762238</td>\n",
       "    </tr>\n",
       "    <tr>\n",
       "      <th>min</th>\n",
       "      <td>4.300000</td>\n",
       "      <td>2.000000</td>\n",
       "      <td>1.000000</td>\n",
       "      <td>0.100000</td>\n",
       "    </tr>\n",
       "    <tr>\n",
       "      <th>25%</th>\n",
       "      <td>5.100000</td>\n",
       "      <td>2.800000</td>\n",
       "      <td>1.600000</td>\n",
       "      <td>0.300000</td>\n",
       "    </tr>\n",
       "    <tr>\n",
       "      <th>50%</th>\n",
       "      <td>5.800000</td>\n",
       "      <td>3.000000</td>\n",
       "      <td>4.350000</td>\n",
       "      <td>1.300000</td>\n",
       "    </tr>\n",
       "    <tr>\n",
       "      <th>75%</th>\n",
       "      <td>6.400000</td>\n",
       "      <td>3.300000</td>\n",
       "      <td>5.100000</td>\n",
       "      <td>1.800000</td>\n",
       "    </tr>\n",
       "    <tr>\n",
       "      <th>max</th>\n",
       "      <td>7.900000</td>\n",
       "      <td>4.400000</td>\n",
       "      <td>6.900000</td>\n",
       "      <td>2.500000</td>\n",
       "    </tr>\n",
       "  </tbody>\n",
       "</table>\n",
       "</div>"
      ],
      "text/plain": [
       "       sepalLength  sepalWidth  petalLength  petalWidth\n",
       "count   150.000000  150.000000   150.000000  150.000000\n",
       "mean      5.843333    3.057333     3.758000    1.199333\n",
       "std       0.828066    0.435866     1.765298    0.762238\n",
       "min       4.300000    2.000000     1.000000    0.100000\n",
       "25%       5.100000    2.800000     1.600000    0.300000\n",
       "50%       5.800000    3.000000     4.350000    1.300000\n",
       "75%       6.400000    3.300000     5.100000    1.800000\n",
       "max       7.900000    4.400000     6.900000    2.500000"
      ]
     },
     "execution_count": 43,
     "metadata": {},
     "output_type": "execute_result"
    }
   ],
   "source": [
    "# Reading from json\n",
    "\n",
    "df=pd.read_json('iris.json') # Load the json file\n",
    "df\n",
    "df.tail()\n",
    "df.describe()"
   ]
  },
  {
   "cell_type": "code",
   "execution_count": 28,
   "id": "cd4ce0d3",
   "metadata": {},
   "outputs": [
    {
     "data": {
      "text/html": [
       "<div>\n",
       "<style scoped>\n",
       "    .dataframe tbody tr th:only-of-type {\n",
       "        vertical-align: middle;\n",
       "    }\n",
       "\n",
       "    .dataframe tbody tr th {\n",
       "        vertical-align: top;\n",
       "    }\n",
       "\n",
       "    .dataframe thead th {\n",
       "        text-align: right;\n",
       "    }\n",
       "</style>\n",
       "<table border=\"1\" class=\"dataframe\">\n",
       "  <thead>\n",
       "    <tr style=\"text-align: right;\">\n",
       "      <th></th>\n",
       "      <th>Temperature</th>\n",
       "      <th>Windspeed</th>\n",
       "      <th>Event</th>\n",
       "    </tr>\n",
       "    <tr>\n",
       "      <th>Day</th>\n",
       "      <th></th>\n",
       "      <th></th>\n",
       "      <th></th>\n",
       "    </tr>\n",
       "  </thead>\n",
       "  <tbody>\n",
       "    <tr>\n",
       "      <th>2025-01-01</th>\n",
       "      <td>32.0</td>\n",
       "      <td>44</td>\n",
       "      <td>Rainy</td>\n",
       "    </tr>\n",
       "    <tr>\n",
       "      <th>2025-01-02</th>\n",
       "      <td>0.0</td>\n",
       "      <td>57</td>\n",
       "      <td>NaN</td>\n",
       "    </tr>\n",
       "    <tr>\n",
       "      <th>2025-01-03</th>\n",
       "      <td>27.0</td>\n",
       "      <td>67</td>\n",
       "      <td>Cloudy</td>\n",
       "    </tr>\n",
       "    <tr>\n",
       "      <th>2025-01-04</th>\n",
       "      <td>29.0</td>\n",
       "      <td>46</td>\n",
       "      <td>Sunny</td>\n",
       "    </tr>\n",
       "    <tr>\n",
       "      <th>2025-01-05</th>\n",
       "      <td>NaN</td>\n",
       "      <td>NaN</td>\n",
       "      <td>NaN</td>\n",
       "    </tr>\n",
       "    <tr>\n",
       "      <th>2025-01-06</th>\n",
       "      <td>34.0</td>\n",
       "      <td>56</td>\n",
       "      <td>Sunny</td>\n",
       "    </tr>\n",
       "    <tr>\n",
       "      <th>2025-01-07</th>\n",
       "      <td>0.0</td>\n",
       "      <td>78</td>\n",
       "      <td>Cloudy</td>\n",
       "    </tr>\n",
       "    <tr>\n",
       "      <th>2025-01-08</th>\n",
       "      <td>38.0</td>\n",
       "      <td>100</td>\n",
       "      <td>Sunny</td>\n",
       "    </tr>\n",
       "    <tr>\n",
       "      <th>2025-01-09</th>\n",
       "      <td>NaN</td>\n",
       "      <td>35</td>\n",
       "      <td>NaN</td>\n",
       "    </tr>\n",
       "  </tbody>\n",
       "</table>\n",
       "</div>"
      ],
      "text/plain": [
       "            Temperature Windspeed   Event\n",
       "Day                                      \n",
       "2025-01-01         32.0    44       Rainy\n",
       "2025-01-02          0.0    57         NaN\n",
       "2025-01-03         27.0    67      Cloudy\n",
       "2025-01-04         29.0    46       Sunny\n",
       "2025-01-05          NaN       NaN     NaN\n",
       "2025-01-06         34.0    56       Sunny\n",
       "2025-01-07          0.0    78      Cloudy\n",
       "2025-01-08         38.0   100       Sunny\n",
       "2025-01-09          NaN    35         NaN"
      ]
     },
     "execution_count": 28,
     "metadata": {},
     "output_type": "execute_result"
    }
   ],
   "source": [
    "df=pd.read_excel('excel2.xlsx',sheet_name='Sheet1')\n",
    "df.set_index(\"Day\",inplace=True)\n",
    "df\n",
    "\n",
    "g=df.columns.str.strip()\n",
    "g\n",
    "\n",
    "# newdf=df.fillna({\n",
    "#     \"Temperature\":0,\n",
    "#     \"Windspeed\":0,\n",
    "#     \"Event\": \"No Event\"\n",
    "# })\n",
    "\n",
    "# newdf=df.ffill() #forward fill\n",
    "# newdf=df.bfill() #backward fill\n",
    "\n",
    "# newdf=df.replace(0,np.nan).ffill() #replace 0 with nan and forward fill\n",
    "newdf=df.replace({\n",
    "    \"Temperature\":\"[A-Za-z]\",\n",
    "    \"Windspeed\":\"[A-Za-z]\",\n",
    "    # \"Event\":\"[A-Za-z]\"\n",
    "},\" \",regex=True)\n",
    "newdf"
   ]
  },
  {
   "cell_type": "code",
   "execution_count": 3,
   "id": "7c061533",
   "metadata": {},
   "outputs": [
    {
     "data": {
      "text/html": [
       "<div>\n",
       "<style scoped>\n",
       "    .dataframe tbody tr th:only-of-type {\n",
       "        vertical-align: middle;\n",
       "    }\n",
       "\n",
       "    .dataframe tbody tr th {\n",
       "        vertical-align: top;\n",
       "    }\n",
       "\n",
       "    .dataframe thead th {\n",
       "        text-align: right;\n",
       "    }\n",
       "</style>\n",
       "<table border=\"1\" class=\"dataframe\">\n",
       "  <thead>\n",
       "    <tr style=\"text-align: right;\">\n",
       "      <th></th>\n",
       "      <th>Marks</th>\n",
       "      <th>Students</th>\n",
       "    </tr>\n",
       "  </thead>\n",
       "  <tbody>\n",
       "    <tr>\n",
       "      <th>0</th>\n",
       "      <td>F</td>\n",
       "      <td>john</td>\n",
       "    </tr>\n",
       "    <tr>\n",
       "      <th>1</th>\n",
       "      <td>C</td>\n",
       "      <td>jane</td>\n",
       "    </tr>\n",
       "    <tr>\n",
       "      <th>2</th>\n",
       "      <td>B</td>\n",
       "      <td>doe</td>\n",
       "    </tr>\n",
       "    <tr>\n",
       "      <th>3</th>\n",
       "      <td>A</td>\n",
       "      <td>smith</td>\n",
       "    </tr>\n",
       "  </tbody>\n",
       "</table>\n",
       "</div>"
      ],
      "text/plain": [
       "  Marks Students\n",
       "0     F     john\n",
       "1     C     jane\n",
       "2     B      doe\n",
       "3     A    smith"
      ]
     },
     "execution_count": 3,
     "metadata": {},
     "output_type": "execute_result"
    }
   ],
   "source": [
    "df=pd.DataFrame({\n",
    "    \"Marks\":[\"poor\",\"average\",\"good\",\"excellent\"],\n",
    "    \"Students\":[\"john\",\"jane\",\"doe\",\"smith\"]\n",
    "})  #new dataframe\n",
    "df.replace(\n",
    "    [\"poor\",\"average\",\"good\",\"excellent\"],[\"F\",\"C\",\"B\",\"A\"]\n",
    ")\n",
    "\n",
    "\n"
   ]
  },
  {
   "cell_type": "code",
   "execution_count": 3,
   "id": "4c8b215b",
   "metadata": {},
   "outputs": [
    {
     "data": {
      "image/png": "[encoded data removed]",
      "text/plain": [
       "<Figure size 640x480 with 1 Axes>"
      ]
     },
     "metadata": {},
     "output_type": "display_data"
    }
   ],
   "source": [
    "df=pd.read_excel('city.xlsx',sheet_name='Sheet1')\n",
    "df\n",
    "# g=df.columns.str.strip()\n",
    "# g\n",
    "# h=df.groupby(\"City\")\n",
    "# h\n",
    "\n",
    "# for city,group in h:\n",
    "#     print(f\"City: {city}\")\n",
    "#     print(group)\n",
    "#     print(\"\\n\")\n",
    "    \n",
    "# h.get_group(\"Delhi\")\n",
    "\n",
    "g=df.groupby('City')['Temperature'].mean()\n",
    "colors=['red','green','blue']\n",
    "g\n",
    "colors\n",
    "\n",
    "g.plot(kind='pie',color=colors,title='Mean Temperature by City')\n",
    "plt.xlabel(\"City\")\n",
    "plt.ylabel(\"Mean Temperature\")\n",
    "plt.show()"
   ]
  },
  {
   "cell_type": "code",
   "execution_count": null,
   "id": "1233f35b",
   "metadata": {},
   "outputs": [],
   "source": []
  }
 ],
 "metadata": {
  "kernelspec": {
   "display_name": "Python 3",
   "language": "python",
   "name": "python3"
  },
  "language_info": {
   "codemirror_mode": {
    "name": "ipython",
    "version": 3
   },
   "file_extension": ".py",
   "mimetype": "text/x-python",
   "name": "python",
   "nbconvert_exporter": "python",
   "pygments_lexer": "ipython3",
   "version": "3.13.2"
  }
 },
 "nbformat": 4,
 "nbformat_minor": 5
}
